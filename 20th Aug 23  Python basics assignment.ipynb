{
 "cells": [
  {
   "cell_type": "markdown",
   "id": "4022ba1c-7a80-410e-b6cc-9463a58bdb85",
   "metadata": {},
   "source": [
    "                                              :: String Based Assignment Problem ::"
   ]
  },
  {
   "cell_type": "code",
   "execution_count": 30,
   "id": "167b4b2c-c43d-4865-a545-da86b3a38bc3",
   "metadata": {
    "scrolled": true
   },
   "outputs": [
    {
     "name": "stdout",
     "output_type": "stream",
     "text": [
      "olleh\n"
     ]
    }
   ],
   "source": [
    "#Q1.Write a program to reverse a string\n",
    "\n",
    "def reverse_string(s):\n",
    "    return s[::-1]\n",
    "\n",
    "print(reverse_string(\"hello\"))"
   ]
  },
  {
   "cell_type": "code",
   "execution_count": 28,
   "id": "5cf9963c-7424-43b6-ba99-f174b1dea6b9",
   "metadata": {},
   "outputs": [
    {
     "name": "stdout",
     "output_type": "stream",
     "text": [
      "True\n"
     ]
    }
   ],
   "source": [
    "#Q2.Check if a string is a palindrome.\n",
    "\n",
    "def is_palindrome(s):\n",
    "    return s == s[::-1]\n",
    "\n",
    "print(is_palindrome(\"madam\"))  "
   ]
  },
  {
   "cell_type": "code",
   "execution_count": 29,
   "id": "03d86ef3-ddd2-4480-b898-434a7e63f6e8",
   "metadata": {},
   "outputs": [
    {
     "name": "stdout",
     "output_type": "stream",
     "text": [
      "HELLO\n"
     ]
    }
   ],
   "source": [
    "#Q3.Convert a string to uppercase.\n",
    "\n",
    "def to_upper(s):\n",
    "    return s.upper()\n",
    "\n",
    "print(to_upper(\"hello\"))"
   ]
  },
  {
   "cell_type": "code",
   "execution_count": 65,
   "id": "a0c7ceb6-3172-4277-9d9f-3305be5a61b5",
   "metadata": {},
   "outputs": [
    {
     "name": "stdout",
     "output_type": "stream",
     "text": [
      "hello\n"
     ]
    }
   ],
   "source": [
    "#Q4.Convert a string to lowercase.\n",
    "\n",
    "def to_lower(s):\n",
    "    return s.lower()\n",
    "\n",
    "print(to_lower(\"HELLO\"))"
   ]
  },
  {
   "cell_type": "code",
   "execution_count": 57,
   "id": "3da137b1-fe62-45f7-b7b3-757b276ac9f3",
   "metadata": {},
   "outputs": [
    {
     "name": "stdout",
     "output_type": "stream",
     "text": [
      "5\n"
     ]
    }
   ],
   "source": [
    "#Q5.Count the number of vowels in a string.\n",
    "\n",
    "def count_vowels(s):\n",
    "    vowels = \"aeiouAEIOU\"\n",
    "    return sum(1 for char in s if char in vowels)\n",
    "\n",
    "print(count_vowels(\"Data Science\"))"
   ]
  },
  {
   "cell_type": "code",
   "execution_count": 122,
   "id": "3a3b1bfd-a932-4913-b513-f56a2b86ba12",
   "metadata": {},
   "outputs": [
    {
     "data": {
      "text/plain": [
       "6"
      ]
     },
     "execution_count": 122,
     "metadata": {},
     "output_type": "execute_result"
    }
   ],
   "source": [
    "#Q6.Count the number of consonants in a string\n",
    "\n",
    "def count_consonants(s):\n",
    "    vowels = 'aeiouAEIOU'\n",
    "    return sum(1 for char in s if char.isalpha() and char not in vowels)\n",
    "\n",
    "count_consonants(\"Data Science\")"
   ]
  },
  {
   "cell_type": "code",
   "execution_count": 124,
   "id": "45f3329d-abe3-486e-bb6e-61f7fde09f14",
   "metadata": {},
   "outputs": [
    {
     "data": {
      "text/plain": [
       "'FullStackDataScience'"
      ]
     },
     "execution_count": 124,
     "metadata": {},
     "output_type": "execute_result"
    }
   ],
   "source": [
    "#Q7.Remove all whitespaces from a string\n",
    "\n",
    "def remove_whitespace(s):\n",
    "    return s.replace(\" \", \"\")\n",
    "\n",
    "remove_whitespace(\"Full Stack Data Science\")"
   ]
  },
  {
   "cell_type": "code",
   "execution_count": 56,
   "id": "15a8492a-d7ac-488c-b41e-a9d13baf11ce",
   "metadata": {},
   "outputs": [
    {
     "data": {
      "text/plain": [
       "16"
      ]
     },
     "execution_count": 56,
     "metadata": {},
     "output_type": "execute_result"
    }
   ],
   "source": [
    "#Q8. Find the length of a string without using the `len()` function.\n",
    "\n",
    "def string_length(s):\n",
    "    count = 0\n",
    "    for _ in s:\n",
    "        count += 1\n",
    "    return count\n",
    "\n",
    "string_length(\"Machine Learning\")"
   ]
  },
  {
   "cell_type": "code",
   "execution_count": 9,
   "id": "4c419090-2559-40fd-9635-4c47c67666dc",
   "metadata": {},
   "outputs": [
    {
     "data": {
      "text/plain": [
       "True"
      ]
     },
     "execution_count": 9,
     "metadata": {},
     "output_type": "execute_result"
    }
   ],
   "source": [
    "#Q9.. Check if a string contains a specific word\n",
    "\n",
    "def contains_word(s, word):\n",
    "    return word in s\n",
    "\n",
    "contains_word(\"Python is powerful\", \"powerful\")"
   ]
  },
  {
   "cell_type": "code",
   "execution_count": 10,
   "id": "8d396095-fd99-49e5-910a-2d1c23612aab",
   "metadata": {},
   "outputs": [
    {
     "data": {
      "text/plain": [
       "'I enjoy data science'"
      ]
     },
     "execution_count": 10,
     "metadata": {},
     "output_type": "execute_result"
    }
   ],
   "source": [
    "#Q10. Replace a word in a string with another word.\n",
    "\n",
    "def replace_word(s, old, new):\n",
    "    return s.replace(old, new)\n",
    "\n",
    "replace_word(\"I love data science\", \"love\", \"enjoy\")"
   ]
  },
  {
   "cell_type": "code",
   "execution_count": 123,
   "id": "4d572025-51f6-416f-92d4-7b1570d13803",
   "metadata": {},
   "outputs": [
    {
     "data": {
      "text/plain": [
       "2"
      ]
     },
     "execution_count": 123,
     "metadata": {},
     "output_type": "execute_result"
    }
   ],
   "source": [
    "#Q11.Count the occurrences of a word in a string\n",
    "\n",
    "def count_word_occurrences(s, word):\n",
    "    return s.split().count(word)\n",
    "\n",
    "count_word_occurrences(\"data science data analysis\", \"data\")"
   ]
  },
  {
   "cell_type": "code",
   "execution_count": 12,
   "id": "3ee5c949-8f01-4735-a805-331f3778e628",
   "metadata": {},
   "outputs": [
    {
     "data": {
      "text/plain": [
       "0"
      ]
     },
     "execution_count": 12,
     "metadata": {},
     "output_type": "execute_result"
    }
   ],
   "source": [
    "#Q12.Find the first occurrence of a word in a string\n",
    "\n",
    "def first_occurrence(s, word):\n",
    "    return s.find(word)\n",
    "\n",
    "first_occurrence(\"data science is fun and data is powerful\", \"data\")"
   ]
  },
  {
   "cell_type": "code",
   "execution_count": 16,
   "id": "caa35e27-45b0-4bb0-8579-39deefcff86c",
   "metadata": {},
   "outputs": [
    {
     "data": {
      "text/plain": [
       "24"
      ]
     },
     "execution_count": 16,
     "metadata": {},
     "output_type": "execute_result"
    }
   ],
   "source": [
    "#Q13.Find the last occurrence of a word in a string\n",
    "\n",
    "def last_occurrence(s, word):\n",
    "    return s.rfind(word)\n",
    "\n",
    "last_occurrence(\"data science is fun and data is powerful\", \"data\")"
   ]
  },
  {
   "cell_type": "code",
   "execution_count": 58,
   "id": "b1f37340-f830-4623-829d-76cf9df5c69d",
   "metadata": {},
   "outputs": [
    {
     "data": {
      "text/plain": [
       "['Full', 'Stack', 'Data', 'Science']"
      ]
     },
     "execution_count": 58,
     "metadata": {},
     "output_type": "execute_result"
    }
   ],
   "source": [
    "#Q14.Split a string into a list of words\n",
    "\n",
    "def split_words(s):\n",
    "    return s.split()\n",
    "\n",
    "split_words(\"Full Stack Data Science\")"
   ]
  },
  {
   "cell_type": "code",
   "execution_count": 15,
   "id": "bc117714-3f5e-4f6c-b66e-06db51c38641",
   "metadata": {},
   "outputs": [
    {
     "data": {
      "text/plain": [
       "'Full Stack Data Science'"
      ]
     },
     "execution_count": 15,
     "metadata": {},
     "output_type": "execute_result"
    }
   ],
   "source": [
    "#Q15.Join a list of words into a string\n",
    "\n",
    "def join_words(words):\n",
    "    return ' '.join(words)\n",
    "\n",
    "join_words([\"Full\", \"Stack\", \"Data\", \"Science\"])"
   ]
  },
  {
   "cell_type": "code",
   "execution_count": 18,
   "id": "99eaec25-654d-450e-ae88-3073bfb9b3dc",
   "metadata": {},
   "outputs": [
    {
     "data": {
      "text/plain": [
       "'Full_Stack_Data_Science'"
      ]
     },
     "execution_count": 18,
     "metadata": {},
     "output_type": "execute_result"
    }
   ],
   "source": [
    "#Q16.Convert a string where words are separated by spaces to one where words are separated by underscores\n",
    "\n",
    "def spaces_to_underscores(s):\n",
    "    return s.replace(\" \", \"_\")\n",
    "\n",
    "spaces_to_underscores(\"Full Stack Data Science\")"
   ]
  },
  {
   "cell_type": "code",
   "execution_count": 19,
   "id": "5ee7d1a8-0bea-4ab0-8f3e-563854bd2b70",
   "metadata": {},
   "outputs": [
    {
     "data": {
      "text/plain": [
       "True"
      ]
     },
     "execution_count": 19,
     "metadata": {},
     "output_type": "execute_result"
    }
   ],
   "source": [
    "#Q17. Check if a string starts with a specific word or phrase\n",
    "\n",
    "def starts_with(s, prefix):\n",
    "    return s.startswith(prefix)\n",
    "\n",
    "starts_with(\"Data Science Pro\", \"Data\")"
   ]
  },
  {
   "cell_type": "code",
   "execution_count": 20,
   "id": "b673b3ee-8444-4026-950a-4e82d70ec8bf",
   "metadata": {},
   "outputs": [
    {
     "data": {
      "text/plain": [
       "True"
      ]
     },
     "execution_count": 20,
     "metadata": {},
     "output_type": "execute_result"
    }
   ],
   "source": [
    "#Q18.Check if a string ends with a specific word or phrase.\n",
    "\n",
    "def ends_with(s, suffix):\n",
    "    return s.endswith(suffix)\n",
    "\n",
    "ends_with(\"Learn Python Programming\", \"Programming\")"
   ]
  },
  {
   "cell_type": "code",
   "execution_count": 21,
   "id": "7ea9be9c-609c-4b01-8bec-d9f8b3a7eeaf",
   "metadata": {},
   "outputs": [
    {
     "data": {
      "text/plain": [
       "'Hello World From Data Science'"
      ]
     },
     "execution_count": 21,
     "metadata": {},
     "output_type": "execute_result"
    }
   ],
   "source": [
    "#Q19. Convert a string to title case (e.g., \"hello world\" to \"Hello World\").\n",
    "\n",
    "def to_title_case(s):\n",
    "    return s.title()\n",
    "\n",
    "to_title_case(\"hello world from data science\")"
   ]
  },
  {
   "cell_type": "code",
   "execution_count": 22,
   "id": "629c18ce-bcdd-414a-83f6-2cd1b60ee530",
   "metadata": {},
   "outputs": [
    {
     "data": {
      "text/plain": [
       "'machinelearning'"
      ]
     },
     "execution_count": 22,
     "metadata": {},
     "output_type": "execute_result"
    }
   ],
   "source": [
    "#Q20.Find the longest word in a string\n",
    "\n",
    "def longest_word(s):\n",
    "    words = s.split()\n",
    "    return max(words, key=len)\n",
    "\n",
    "longest_word(\"Data science involves statistics programming and machinelearning\")"
   ]
  },
  {
   "cell_type": "code",
   "execution_count": 23,
   "id": "b5cf4319-8bda-465b-b52a-245ef2eb4001",
   "metadata": {},
   "outputs": [
    {
     "data": {
      "text/plain": [
       "'C'"
      ]
     },
     "execution_count": 23,
     "metadata": {},
     "output_type": "execute_result"
    }
   ],
   "source": [
    "#Q21.Find the shortest word in a string\n",
    "\n",
    "def shortest_word(s):\n",
    "    words = s.split()\n",
    "    return min(words, key=len)\n",
    "\n",
    "shortest_word(\"Python Java C JavaScript\")"
   ]
  },
  {
   "cell_type": "code",
   "execution_count": 59,
   "id": "07747240-5fd9-45e4-a826-b026717b3c30",
   "metadata": {},
   "outputs": [
    {
     "data": {
      "text/plain": [
       "'Science Data Stack Full'"
      ]
     },
     "execution_count": 59,
     "metadata": {},
     "output_type": "execute_result"
    }
   ],
   "source": [
    "#Q22.Reverse the order of words in a string\n",
    "\n",
    "def reverse_word_order(s):\n",
    "    return ' '.join(s.split()[::-1])\n",
    "\n",
    "reverse_word_order(\"Full Stack Data Science\")"
   ]
  },
  {
   "cell_type": "code",
   "execution_count": 25,
   "id": "2ebd9733-8047-4ae6-8087-824269bd7e03",
   "metadata": {},
   "outputs": [
    {
     "data": {
      "text/plain": [
       "False"
      ]
     },
     "execution_count": 25,
     "metadata": {},
     "output_type": "execute_result"
    }
   ],
   "source": [
    "#Q23.Check if a string is alphanumeric.\n",
    "\n",
    "def is_alphanumeric(s):\n",
    "    return s.isalnum()\n",
    "\n",
    "is_alphanumeric(\"Data123\")   # True\n",
    "is_alphanumeric(\"Data 123\")  # False"
   ]
  },
  {
   "cell_type": "code",
   "execution_count": 26,
   "id": "78bd2753-3679-4c38-9c9f-e6bfa58d56a0",
   "metadata": {},
   "outputs": [
    {
     "data": {
      "text/plain": [
       "'123456'"
      ]
     },
     "execution_count": 26,
     "metadata": {},
     "output_type": "execute_result"
    }
   ],
   "source": [
    "#Q24. Extract all digits from a string\n",
    "\n",
    "def extract_digits(s):\n",
    "    return ''.join([char for char in s if char.isdigit()])\n",
    "\n",
    "extract_digits(\"User123Score456\")"
   ]
  },
  {
   "cell_type": "code",
   "execution_count": 60,
   "id": "3e7eb2f7-d68a-41f7-95db-b631abff5236",
   "metadata": {},
   "outputs": [
    {
     "data": {
      "text/plain": [
       "'UserScore'"
      ]
     },
     "execution_count": 60,
     "metadata": {},
     "output_type": "execute_result"
    }
   ],
   "source": [
    "#Q25.Extract all alphabets from a string\n",
    "\n",
    "def extract_alphabets(s):\n",
    "    return ''.join([char for char in s if char.isalpha()])\n",
    "\n",
    "extract_alphabets(\"User123Score456\")"
   ]
  },
  {
   "cell_type": "code",
   "execution_count": 125,
   "id": "9ca31018-429f-405b-af67-a74626df8ce8",
   "metadata": {},
   "outputs": [
    {
     "data": {
      "text/plain": [
       "4"
      ]
     },
     "execution_count": 125,
     "metadata": {},
     "output_type": "execute_result"
    }
   ],
   "source": [
    "#Q26. Count the number of uppercase letters in a string\n",
    "\n",
    "def count_uppercase(s):\n",
    "    return sum(1 for char in s if char.isupper())\n",
    "\n",
    "count_uppercase(\"DataScienceIsFun\")"
   ]
  },
  {
   "cell_type": "code",
   "execution_count": 32,
   "id": "c43dca87-5402-4531-ad8b-907df971d5f8",
   "metadata": {},
   "outputs": [
    {
     "data": {
      "text/plain": [
       "12"
      ]
     },
     "execution_count": 32,
     "metadata": {},
     "output_type": "execute_result"
    }
   ],
   "source": [
    "#Q27.Count the number of lowercase letters in a string\n",
    "\n",
    "def count_lowercase(s):\n",
    "    return sum(1 for char in s if char.islower())\n",
    "\n",
    "count_lowercase(\"DataScienceIsFun\")"
   ]
  },
  {
   "cell_type": "code",
   "execution_count": 33,
   "id": "5a0a53ee-1094-4b9a-8eef-c9dc0dd3fccf",
   "metadata": {},
   "outputs": [
    {
     "data": {
      "text/plain": [
       "'dATAsCIENCE123'"
      ]
     },
     "execution_count": 33,
     "metadata": {},
     "output_type": "execute_result"
    }
   ],
   "source": [
    "#Q28. Swap the case of each character in a string.\n",
    "\n",
    "def swap_case(s):\n",
    "    return s.swapcase()\n",
    "\n",
    "swap_case(\"DataScience123\")"
   ]
  },
  {
   "cell_type": "code",
   "execution_count": 34,
   "id": "039bae67-8a1e-4e08-a555-d38c552ba77f",
   "metadata": {},
   "outputs": [
    {
     "data": {
      "text/plain": [
       "'I data science'"
      ]
     },
     "execution_count": 34,
     "metadata": {},
     "output_type": "execute_result"
    }
   ],
   "source": [
    "#Q29.Remove a specific word from a string.\n",
    "\n",
    "def remove_word(s, word):\n",
    "    return s.replace(word, \"\")\n",
    "\n",
    "remove_word(\"I love data science\", \"love \")"
   ]
  },
  {
   "cell_type": "code",
   "execution_count": 35,
   "id": "459d8a64-2954-45a4-9f83-16b9540d9065",
   "metadata": {},
   "outputs": [
    {
     "data": {
      "text/plain": [
       "True"
      ]
     },
     "execution_count": 35,
     "metadata": {},
     "output_type": "execute_result"
    }
   ],
   "source": [
    "#Q30.Check if a string is a valid email address\n",
    "\n",
    "import re\n",
    "\n",
    "def is_valid_email(s):\n",
    "    pattern = r'^[a-zA-Z0-9._%+-]+@[a-zA-Z0-9.-]+\\.[a-zA-Z]{2,}$'\n",
    "    return bool(re.match(pattern, s))\n",
    "\n",
    "is_valid_email(\"user@example.com\")"
   ]
  },
  {
   "cell_type": "code",
   "execution_count": 36,
   "id": "a2778ffe-9c18-4d69-97af-269a45ed31ff",
   "metadata": {},
   "outputs": [
    {
     "data": {
      "text/plain": [
       "'user'"
      ]
     },
     "execution_count": 36,
     "metadata": {},
     "output_type": "execute_result"
    }
   ],
   "source": [
    "#Q31.Extract the username from an email address string\n",
    "\n",
    "def extract_username(email):\n",
    "    return email.split('@')[0]\n",
    "\n",
    "extract_username(\"user@example.com\")"
   ]
  },
  {
   "cell_type": "code",
   "execution_count": 37,
   "id": "2948d7a9-6a91-4832-bf01-5449cee6faa1",
   "metadata": {},
   "outputs": [
    {
     "data": {
      "text/plain": [
       "'example.com'"
      ]
     },
     "execution_count": 37,
     "metadata": {},
     "output_type": "execute_result"
    }
   ],
   "source": [
    "#Q32.Extract the domain name from an email address string\n",
    "\n",
    "def extract_domain(email):\n",
    "    return email.split('@')[1]\n",
    "\n",
    "extract_domain(\"user@example.com\")"
   ]
  },
  {
   "cell_type": "code",
   "execution_count": 38,
   "id": "df58d699-222f-456b-99a1-2a8e3ab16f60",
   "metadata": {},
   "outputs": [
    {
     "data": {
      "text/plain": [
       "'This is a test'"
      ]
     },
     "execution_count": 38,
     "metadata": {},
     "output_type": "execute_result"
    }
   ],
   "source": [
    "#Q33. Replace multiple spaces in a string with a single space\n",
    "\n",
    "import re\n",
    "\n",
    "def replace_multiple_spaces(s):\n",
    "    return re.sub(r'\\s+', ' ', s).strip()\n",
    "\n",
    "replace_multiple_spaces(\"This   is  a   test\")"
   ]
  },
  {
   "cell_type": "code",
   "execution_count": 61,
   "id": "99e2332e-413f-4f5a-a361-6faf7540570d",
   "metadata": {},
   "outputs": [
    {
     "data": {
      "text/plain": [
       "True"
      ]
     },
     "execution_count": 61,
     "metadata": {},
     "output_type": "execute_result"
    }
   ],
   "source": [
    "#Q34.Check if a string is a valid URL.\n",
    "\n",
    "import re\n",
    "\n",
    "def is_valid_url(s):\n",
    "    pattern = r'^(http|https)://[^\\s]+$'\n",
    "    return bool(re.match(pattern, s))\n",
    "\n",
    "is_valid_url(\"https://www.example.com\")"
   ]
  },
  {
   "cell_type": "code",
   "execution_count": 40,
   "id": "25e2200c-dcb2-479b-a8a8-cddcad8d119c",
   "metadata": {},
   "outputs": [
    {
     "data": {
      "text/plain": [
       "'https'"
      ]
     },
     "execution_count": 40,
     "metadata": {},
     "output_type": "execute_result"
    }
   ],
   "source": [
    "#Q35.Extract the protocol (http or https) from a URL string\n",
    "\n",
    "def extract_protocol(url):\n",
    "    return url.split('://')[0]\n",
    "\n",
    "extract_protocol(\"https://www.example.com\")"
   ]
  },
  {
   "cell_type": "code",
   "execution_count": 41,
   "id": "cb79664e-69cd-4704-bc0f-1da6f1289672",
   "metadata": {},
   "outputs": [
    {
     "data": {
      "text/plain": [
       "{'d': 1, 'a': 2, 't': 1, ' ': 1, 's': 1, 'c': 2, 'i': 1, 'e': 2, 'n': 1}"
      ]
     },
     "execution_count": 41,
     "metadata": {},
     "output_type": "execute_result"
    }
   ],
   "source": [
    "#Q36.Find the frequency of each character in a string.\n",
    "\n",
    "from collections import Counter\n",
    "\n",
    "def char_frequency(s):\n",
    "    return dict(Counter(s))\n",
    "\n",
    "char_frequency(\"data science\")"
   ]
  },
  {
   "cell_type": "code",
   "execution_count": 42,
   "id": "586a726f-5c7a-46b2-9283-0a882011f37a",
   "metadata": {},
   "outputs": [
    {
     "data": {
      "text/plain": [
       "'Hello world'"
      ]
     },
     "execution_count": 42,
     "metadata": {},
     "output_type": "execute_result"
    }
   ],
   "source": [
    "#Q37.Remove all punctuation from a string\n",
    "\n",
    "import string\n",
    "\n",
    "def remove_punctuation(s):\n",
    "    return s.translate(str.maketrans('', '', string.punctuation))\n",
    "\n",
    "remove_punctuation(\"Hello, world!\")"
   ]
  },
  {
   "cell_type": "code",
   "execution_count": 43,
   "id": "f8c1b18d-8a69-410d-b1f9-d5e5bde15e0b",
   "metadata": {},
   "outputs": [
    {
     "data": {
      "text/plain": [
       "False"
      ]
     },
     "execution_count": 43,
     "metadata": {},
     "output_type": "execute_result"
    }
   ],
   "source": [
    "#Q38.Check if a string contains only digits.\n",
    "\n",
    "def only_digits(s):\n",
    "    return s.isdigit()\n",
    "\n",
    "only_digits(\"12345\")  # True\n",
    "only_digits(\"123a5\")  # False"
   ]
  },
  {
   "cell_type": "code",
   "execution_count": 44,
   "id": "517a205b-8c58-4aa1-bdac-2585aecc9d0c",
   "metadata": {},
   "outputs": [
    {
     "data": {
      "text/plain": [
       "False"
      ]
     },
     "execution_count": 44,
     "metadata": {},
     "output_type": "execute_result"
    }
   ],
   "source": [
    "#Q39.Check if a string contains only alphabets\n",
    "\n",
    "def only_alphabets(s):\n",
    "    return s.isalpha()\n",
    "\n",
    "only_alphabets(\"Hello\")  # True\n",
    "only_alphabets(\"Hello123\")  # False"
   ]
  },
  {
   "cell_type": "code",
   "execution_count": 45,
   "id": "42912511-da16-4257-8ed9-aea5c0058f06",
   "metadata": {},
   "outputs": [
    {
     "data": {
      "text/plain": [
       "['D', 'a', 't', 'a']"
      ]
     },
     "execution_count": 45,
     "metadata": {},
     "output_type": "execute_result"
    }
   ],
   "source": [
    "#Q40.Convert a string to a list of characters.\n",
    "\n",
    "def string_to_char_list(s):\n",
    "    return list(s)\n",
    "\n",
    "string_to_char_list(\"Data\")"
   ]
  },
  {
   "cell_type": "code",
   "execution_count": 62,
   "id": "163f11f2-9182-43a0-8285-a8e21ad0c2d4",
   "metadata": {},
   "outputs": [
    {
     "data": {
      "text/plain": [
       "True"
      ]
     },
     "execution_count": 62,
     "metadata": {},
     "output_type": "execute_result"
    }
   ],
   "source": [
    "#Q41. Check if two strings are anagrams\n",
    "\n",
    "def are_anagrams(s1, s2):\n",
    "    return sorted(s1.replace(\" \", \"\").lower()) == sorted(s2.replace(\" \", \"\").lower())\n",
    "\n",
    "are_anagrams(\"listen\", \"silent\")"
   ]
  },
  {
   "cell_type": "code",
   "execution_count": 63,
   "id": "bceb36f6-8efd-49ab-ba21-8d64605c86ff",
   "metadata": {},
   "outputs": [
    {
     "data": {
      "text/plain": [
       "'cde'"
      ]
     },
     "execution_count": 63,
     "metadata": {},
     "output_type": "execute_result"
    }
   ],
   "source": [
    "#Q42. Encode a string using a Caesar cipher\n",
    "\n",
    "def caesar_cipher_encode(s, shift):\n",
    "    result = \"\"\n",
    "    for char in s:\n",
    "        if char.isalpha():\n",
    "            base = ord('A') if char.isupper() else ord('a')\n",
    "            result += chr((ord(char) - base + shift) % 26 + base)\n",
    "        else:\n",
    "            result += char\n",
    "    return result\n",
    "\n",
    "caesar_cipher_encode(\"abc\", 2)  # Output: \"cde\""
   ]
  },
  {
   "cell_type": "code",
   "execution_count": 48,
   "id": "6e14eae4-1091-4292-b169-1a70f6493f65",
   "metadata": {},
   "outputs": [
    {
     "data": {
      "text/plain": [
       "'abc'"
      ]
     },
     "execution_count": 48,
     "metadata": {},
     "output_type": "execute_result"
    }
   ],
   "source": [
    "#Q43.Decode a Caesar cipher encoded string\n",
    "\n",
    "def caesar_cipher_decode(s, shift):\n",
    "    return caesar_cipher_encode(s, -shift)\n",
    "\n",
    "caesar_cipher_decode(\"cde\", 2)  # Output: \"abc\""
   ]
  },
  {
   "cell_type": "code",
   "execution_count": 49,
   "id": "907504a8-a383-4b9b-a17b-d394207d2f23",
   "metadata": {},
   "outputs": [
    {
     "data": {
      "text/plain": [
       "('data', 3)"
      ]
     },
     "execution_count": 49,
     "metadata": {},
     "output_type": "execute_result"
    }
   ],
   "source": [
    "#Q44.Find the most frequent word in a string\n",
    "\n",
    "from collections import Counter\n",
    "\n",
    "def most_frequent_word(s):\n",
    "    words = s.split()\n",
    "    return Counter(words).most_common(1)[0]\n",
    "\n",
    "most_frequent_word(\"data science data analysis data\")"
   ]
  },
  {
   "cell_type": "code",
   "execution_count": 50,
   "id": "835f1cd2-17da-49ff-9075-ac82f4d6345e",
   "metadata": {},
   "outputs": [
    {
     "data": {
      "text/plain": [
       "{'analysis', 'data', 'science'}"
      ]
     },
     "execution_count": 50,
     "metadata": {},
     "output_type": "execute_result"
    }
   ],
   "source": [
    "#Q45.Find all unique words in a string.\n",
    "\n",
    "def unique_words(s):\n",
    "    return set(s.split())\n",
    "\n",
    "unique_words(\"data science data analysis\")"
   ]
  },
  {
   "cell_type": "code",
   "execution_count": 64,
   "id": "a6716b8b-7140-4f15-b64d-e2a9df7fac2a",
   "metadata": {},
   "outputs": [
    {
     "data": {
      "text/plain": [
       "7"
      ]
     },
     "execution_count": 64,
     "metadata": {},
     "output_type": "execute_result"
    }
   ],
   "source": [
    "#Q46.Count the number of syllables in a string\n",
    "\n",
    "def count_syllables(word):\n",
    "    word = word.lower()\n",
    "    vowels = \"aeiou\"\n",
    "    count = 0\n",
    "    prev_char_was_vowel = False\n",
    "    for char in word:\n",
    "        if char in vowels:\n",
    "            if not prev_char_was_vowel:\n",
    "                count += 1\n",
    "                prev_char_was_vowel = True\n",
    "        else:\n",
    "            prev_char_was_vowel = False\n",
    "    if word.endswith(\"e\"):\n",
    "        count = max(1, count - 1)\n",
    "    return count\n",
    "\n",
    "def total_syllables(s):\n",
    "    words = s.split()\n",
    "    return sum(count_syllables(word) for word in words)\n",
    "\n",
    "total_syllables(\"Data science is amazing\")"
   ]
  },
  {
   "cell_type": "code",
   "execution_count": 52,
   "id": "62fe846c-4ec8-4ad1-87f9-45454c65b432",
   "metadata": {},
   "outputs": [
    {
     "data": {
      "text/plain": [
       "True"
      ]
     },
     "execution_count": 52,
     "metadata": {},
     "output_type": "execute_result"
    }
   ],
   "source": [
    "#Q47.Check if a string contains any special characters.\n",
    "\n",
    "import string\n",
    "\n",
    "def contains_special_chars(s):\n",
    "    special_chars = string.punctuation\n",
    "    return any(char in special_chars for char in s)\n",
    "\n",
    "contains_special_chars(\"Hello@World!\")"
   ]
  },
  {
   "cell_type": "code",
   "execution_count": 53,
   "id": "b99986fb-fa40-43c7-a6b7-2bfac3c3c827",
   "metadata": {},
   "outputs": [
    {
     "data": {
      "text/plain": [
       "'Full Stack Science'"
      ]
     },
     "execution_count": 53,
     "metadata": {},
     "output_type": "execute_result"
    }
   ],
   "source": [
    "#Q48. Remove the nth word from a string.\n",
    "\n",
    "def remove_nth_word(s, n):\n",
    "    words = s.split()\n",
    "    if 0 <= n < len(words):\n",
    "        words.pop(n)\n",
    "    return ' '.join(words)\n",
    "\n",
    "remove_nth_word(\"Full Stack Data Science\", 2)"
   ]
  },
  {
   "cell_type": "code",
   "execution_count": 54,
   "id": "35e28434-d8e6-4772-8cff-81316edcf0e6",
   "metadata": {},
   "outputs": [
    {
     "data": {
      "text/plain": [
       "'Full Stack Pro Data Science'"
      ]
     },
     "execution_count": 54,
     "metadata": {},
     "output_type": "execute_result"
    }
   ],
   "source": [
    "#Q49. Insert a word at the nth position in a string\n",
    "\n",
    "def insert_word(s, word, n):\n",
    "    words = s.split()\n",
    "    words.insert(n, word)\n",
    "    return ' '.join(words)\n",
    "\n",
    "insert_word(\"Full Stack Data Science\", \"Pro\", 2)"
   ]
  },
  {
   "cell_type": "code",
   "execution_count": 55,
   "id": "c2374755-aa8e-4d93-a78d-6ce3fec08392",
   "metadata": {},
   "outputs": [
    {
     "data": {
      "text/plain": [
       "[['name', 'age'], ['Alice', '30'], ['Bob', '25']]"
      ]
     },
     "execution_count": 55,
     "metadata": {},
     "output_type": "execute_result"
    }
   ],
   "source": [
    "#Q50.Convert a CSV string to a list of lists.\n",
    "\n",
    "def csv_to_list(csv_string):\n",
    "    lines = csv_string.strip().split('\\n')\n",
    "    return [line.split(',') for line in lines]\n",
    "\n",
    "csv_to_list(\"name,age\\nAlice,30\\nBob,25\")"
   ]
  },
  {
   "cell_type": "markdown",
   "id": "42ed2fec-5bb6-4f2f-a1ef-4b4be17f221c",
   "metadata": {},
   "source": [
    "                                                 :: List Based Practice Problem ::"
   ]
  },
  {
   "cell_type": "code",
   "execution_count": 68,
   "id": "8bc2cede-169a-49c6-8b16-cd3094180775",
   "metadata": {},
   "outputs": [
    {
     "name": "stdout",
     "output_type": "stream",
     "text": [
      "[1, 2, 3, 4, 5, 6, 7, 8, 9, 10]\n"
     ]
    }
   ],
   "source": [
    "#Q1. Create a list with integers from 1 to 10\n",
    "\n",
    "numbers = list(range(1, 11))\n",
    "print(numbers)"
   ]
  },
  {
   "cell_type": "code",
   "execution_count": 67,
   "id": "5a4c205d-d840-4262-bbaa-6dc83ac322a7",
   "metadata": {},
   "outputs": [
    {
     "data": {
      "text/plain": [
       "5"
      ]
     },
     "execution_count": 67,
     "metadata": {},
     "output_type": "execute_result"
    }
   ],
   "source": [
    "#Q2. Find the length of a list without using the `len()` function\n",
    "\n",
    "def list_length(lst):\n",
    "    count = 0\n",
    "    for _ in lst:\n",
    "        count += 1\n",
    "    return count\n",
    "\n",
    "list_length([1, 2, 3, 4, 5])"
   ]
  },
  {
   "cell_type": "code",
   "execution_count": 69,
   "id": "dc9d3c1f-2f92-44cc-ad72-1a3b277750ac",
   "metadata": {},
   "outputs": [
    {
     "name": "stdout",
     "output_type": "stream",
     "text": [
      "[1, 2, 3, 4]\n"
     ]
    }
   ],
   "source": [
    "#Q3. Append an element to the end of a list.\n",
    "\n",
    "lst = [1, 2, 3]\n",
    "lst.append(4)\n",
    "print(lst)"
   ]
  },
  {
   "cell_type": "code",
   "execution_count": 70,
   "id": "dd9cff3e-4121-4fc0-b941-f9f0de0d5015",
   "metadata": {},
   "outputs": [
    {
     "name": "stdout",
     "output_type": "stream",
     "text": [
      "[1, 2, 3, 4]\n"
     ]
    }
   ],
   "source": [
    "#Q4. Insert an element at a specific index in a list.\n",
    "\n",
    "lst = [1, 2, 4]\n",
    "lst.insert(2, 3)  # Insert 3 at index 2\n",
    "print(lst)"
   ]
  },
  {
   "cell_type": "code",
   "execution_count": 71,
   "id": "155bd167-5060-405b-b018-b5f1ded02a13",
   "metadata": {},
   "outputs": [
    {
     "name": "stdout",
     "output_type": "stream",
     "text": [
      "[1, 2, 4, 5]\n"
     ]
    }
   ],
   "source": [
    "#Q5. Remove an element from a list by its value\n",
    "\n",
    "lst = [1, 2, 3, 4, 5]\n",
    "lst.remove(3)\n",
    "print(lst)"
   ]
  },
  {
   "cell_type": "code",
   "execution_count": 72,
   "id": "bc74627d-999c-4fbe-af6a-039d299a18e3",
   "metadata": {},
   "outputs": [
    {
     "name": "stdout",
     "output_type": "stream",
     "text": [
      "[10, 20, 40, 50]\n"
     ]
    }
   ],
   "source": [
    "#Q6. Remove an element from a list by its index.\n",
    "\n",
    "lst = [10, 20, 30, 40, 50]\n",
    "del lst[2]  # Removes the element at index 2\n",
    "print(lst)"
   ]
  },
  {
   "cell_type": "code",
   "execution_count": 73,
   "id": "561f69b7-b966-443d-98d1-b6cb346e2ab0",
   "metadata": {},
   "outputs": [
    {
     "name": "stdout",
     "output_type": "stream",
     "text": [
      "True\n",
      "False\n"
     ]
    }
   ],
   "source": [
    "#Q7. Check if an element exists in a list\n",
    "\n",
    "lst = [1, 2, 3, 4, 5]\n",
    "print(3 in lst)   # True\n",
    "print(10 in lst)  # False"
   ]
  },
  {
   "cell_type": "code",
   "execution_count": 83,
   "id": "82f50e70-dd6f-425f-bc2e-058bf0b02e54",
   "metadata": {},
   "outputs": [
    {
     "name": "stdout",
     "output_type": "stream",
     "text": [
      "1\n"
     ]
    }
   ],
   "source": [
    "#Q8. Find the index of the first occurrence of an element in a list\n",
    "\n",
    "lst = [5, 3, 7, 3, 9]\n",
    "index = lst.index(3)\n",
    "print(index)  "
   ]
  },
  {
   "cell_type": "code",
   "execution_count": 82,
   "id": "c8bdf235-1913-4776-988e-5cbb81e29dea",
   "metadata": {},
   "outputs": [
    {
     "name": "stdout",
     "output_type": "stream",
     "text": [
      "3\n"
     ]
    }
   ],
   "source": [
    "#Q9. Count the occurrences of an element in a list\n",
    "\n",
    "lst = [1, 2, 2, 3, 2, 4]\n",
    "count = lst.count(2)\n",
    "print(count)  "
   ]
  },
  {
   "cell_type": "code",
   "execution_count": 81,
   "id": "0cd7e7b6-ac7a-419f-bc45-baf45f663198",
   "metadata": {},
   "outputs": [
    {
     "name": "stdout",
     "output_type": "stream",
     "text": [
      "[5, 4, 3, 2, 1]\n"
     ]
    }
   ],
   "source": [
    "#Q10. Reverse the order of elements in a list\n",
    "\n",
    "lst = [1, 2, 3, 4, 5]\n",
    "lst.reverse()\n",
    "print(lst)  "
   ]
  },
  {
   "cell_type": "code",
   "execution_count": 80,
   "id": "9f7cbb28-bd44-4ef7-a92f-7e38593afeb8",
   "metadata": {},
   "outputs": [
    {
     "name": "stdout",
     "output_type": "stream",
     "text": [
      "[1, 3, 5, 8, 9]\n"
     ]
    }
   ],
   "source": [
    "#Q11. Sort a list in ascending order.\n",
    "\n",
    "lst = [5, 3, 8, 1, 9]\n",
    "lst.sort()\n",
    "print(lst)  "
   ]
  },
  {
   "cell_type": "code",
   "execution_count": 79,
   "id": "6ecd967f-bc8a-405c-92e5-46195910a51b",
   "metadata": {},
   "outputs": [
    {
     "name": "stdout",
     "output_type": "stream",
     "text": [
      "[9, 8, 5, 3, 1]\n"
     ]
    }
   ],
   "source": [
    "#Q12. Sort a list in descending order.\n",
    "\n",
    "lst = [5, 3, 8, 1, 9]\n",
    "lst.sort(reverse=True)\n",
    "print(lst) "
   ]
  },
  {
   "cell_type": "code",
   "execution_count": 84,
   "id": "8089bab0-3066-4d9c-bd9e-2523e3f53142",
   "metadata": {},
   "outputs": [
    {
     "name": "stdout",
     "output_type": "stream",
     "text": [
      "[2, 4, 6, 8, 10, 12, 14, 16, 18, 20]\n"
     ]
    }
   ],
   "source": [
    "#Q13. Create a list of even numbers from 1 to 20\n",
    "\n",
    "even_numbers = [x for x in range(1, 21) if x % 2 == 0]\n",
    "print(even_numbers)"
   ]
  },
  {
   "cell_type": "code",
   "execution_count": 85,
   "id": "0b69abdf-4442-4e3e-9ba9-30e1731ac0bc",
   "metadata": {},
   "outputs": [
    {
     "name": "stdout",
     "output_type": "stream",
     "text": [
      "[1, 3, 5, 7, 9, 11, 13, 15, 17, 19]\n"
     ]
    }
   ],
   "source": [
    "#Q14. Create a list of odd numbers from 1 to 20\n",
    "\n",
    "odd_numbers = [x for x in range(1, 21) if x % 2 != 0]\n",
    "print(odd_numbers)"
   ]
  },
  {
   "cell_type": "code",
   "execution_count": 86,
   "id": "53dc04fb-20b6-4cc9-bbda-f02d444f364e",
   "metadata": {},
   "outputs": [
    {
     "name": "stdout",
     "output_type": "stream",
     "text": [
      "15\n"
     ]
    }
   ],
   "source": [
    "#Q15 Find the sum of all elements in a list\n",
    "\n",
    "lst = [1, 2, 3, 4, 5]\n",
    "total = sum(lst)\n",
    "print(total)  "
   ]
  },
  {
   "cell_type": "code",
   "execution_count": 87,
   "id": "81402949-cd7c-482a-8857-29ca44dc6ca1",
   "metadata": {},
   "outputs": [
    {
     "name": "stdout",
     "output_type": "stream",
     "text": [
      "9\n"
     ]
    }
   ],
   "source": [
    "#Q16. Find the maximum value in a list.\n",
    "\n",
    "lst = [4, 7, 1, 9, 3]\n",
    "maximum = max(lst)\n",
    "print(maximum)  "
   ]
  },
  {
   "cell_type": "code",
   "execution_count": 88,
   "id": "cc2101f1-c161-4ec1-8580-2340aa056804",
   "metadata": {},
   "outputs": [
    {
     "name": "stdout",
     "output_type": "stream",
     "text": [
      "1\n"
     ]
    }
   ],
   "source": [
    "#Q17. Find the minimum value in a list\n",
    "\n",
    "lst = [4, 7, 1, 9, 3]\n",
    "minimum = min(lst)\n",
    "print(minimum)  "
   ]
  },
  {
   "cell_type": "code",
   "execution_count": 89,
   "id": "ad25d619-fc5c-46f8-86d0-d501b8e24488",
   "metadata": {},
   "outputs": [
    {
     "name": "stdout",
     "output_type": "stream",
     "text": [
      "[1, 4, 9, 16, 25, 36, 49, 64, 81, 100]\n"
     ]
    }
   ],
   "source": [
    "#Q18. Create a list of squares of numbers from 1 to 10.\n",
    "\n",
    "squares = [x**2 for x in range(1, 11)]\n",
    "print(squares)"
   ]
  },
  {
   "cell_type": "code",
   "execution_count": 90,
   "id": "fecfcf59-214b-438d-8fab-b2948bb70afd",
   "metadata": {},
   "outputs": [
    {
     "name": "stdout",
     "output_type": "stream",
     "text": [
      "[53, 68, 65, 85, 25, 6, 54, 97, 32, 25]\n"
     ]
    }
   ],
   "source": [
    "#Q19. Create a list of random numbers\n",
    "\n",
    "import random\n",
    "\n",
    "random_numbers = [random.randint(1, 100) for _ in range(10)]\n",
    "print(random_numbers)"
   ]
  },
  {
   "cell_type": "code",
   "execution_count": 91,
   "id": "ab011146-33bb-45e4-ba13-858f3574038b",
   "metadata": {},
   "outputs": [
    {
     "name": "stdout",
     "output_type": "stream",
     "text": [
      "[1, 2, 3, 4, 5]\n"
     ]
    }
   ],
   "source": [
    "#Q20. Remove duplicates from a list.\n",
    "\n",
    "lst = [1, 2, 2, 3, 4, 4, 5]\n",
    "unique_lst = list(set(lst))\n",
    "print(unique_lst)  "
   ]
  },
  {
   "cell_type": "code",
   "execution_count": 92,
   "id": "98a2a64e-837b-4d18-814d-eb6a37b9513b",
   "metadata": {},
   "outputs": [
    {
     "name": "stdout",
     "output_type": "stream",
     "text": [
      "[3, 4]\n"
     ]
    }
   ],
   "source": [
    "#Q21. Find the common elements between two lists.\n",
    "\n",
    "list1 = [1, 2, 3, 4]\n",
    "list2 = [3, 4, 5, 6]\n",
    "common = list(set(list1) & set(list2))\n",
    "print(common)  "
   ]
  },
  {
   "cell_type": "code",
   "execution_count": 93,
   "id": "8ed24d8b-9c75-458a-bcd7-89865584bc09",
   "metadata": {},
   "outputs": [
    {
     "name": "stdout",
     "output_type": "stream",
     "text": [
      "[1, 2]\n"
     ]
    }
   ],
   "source": [
    "#Q22. Find the difference between two lists  \n",
    "\n",
    "list1 = [1, 2, 3, 4]\n",
    "list2 = [3, 4, 5, 6]\n",
    "difference = list(set(list1) - set(list2))\n",
    "print(difference)  "
   ]
  },
  {
   "cell_type": "code",
   "execution_count": 94,
   "id": "db4d7ff4-6052-4bab-a759-51ba95847d40",
   "metadata": {},
   "outputs": [
    {
     "name": "stdout",
     "output_type": "stream",
     "text": [
      "[1, 2, 3, 4, 5, 6]\n"
     ]
    }
   ],
   "source": [
    "#Q23. Merge two lists\n",
    "\n",
    "list1 = [1, 2, 3]\n",
    "list2 = [4, 5, 6]\n",
    "merged = list1 + list2\n",
    "print(merged)  "
   ]
  },
  {
   "cell_type": "code",
   "execution_count": 95,
   "id": "4ab61016-ccd1-458a-8af4-a7f6fd68b26d",
   "metadata": {},
   "outputs": [
    {
     "name": "stdout",
     "output_type": "stream",
     "text": [
      "[2, 4, 6, 8, 10]\n"
     ]
    }
   ],
   "source": [
    "#Q24. Multiply all elements in a list by 2.\n",
    "\n",
    "lst = [1, 2, 3, 4, 5]\n",
    "doubled = [x * 2 for x in lst]\n",
    "print(doubled)  "
   ]
  },
  {
   "cell_type": "code",
   "execution_count": 96,
   "id": "99fb5843-e316-4d3e-8f83-678bc627ff8f",
   "metadata": {},
   "outputs": [
    {
     "name": "stdout",
     "output_type": "stream",
     "text": [
      "[2, 4, 6, 8]\n"
     ]
    }
   ],
   "source": [
    "#Q25. Filter out all even numbers from a list.\n",
    "\n",
    "lst = [1, 2, 3, 4, 5, 6, 7, 8]\n",
    "evens = [x for x in lst if x % 2 == 0]\n",
    "print(evens)  "
   ]
  },
  {
   "cell_type": "code",
   "execution_count": 97,
   "id": "e758e44d-8760-4159-9e13-56c831a7be38",
   "metadata": {},
   "outputs": [
    {
     "name": "stdout",
     "output_type": "stream",
     "text": [
      "[1, 2, 3, 4]\n"
     ]
    }
   ],
   "source": [
    "#Q26. Convert a list of strings to a list of integers\n",
    "\n",
    "str_list = ['1', '2', '3', '4']\n",
    "int_list = [int(x) for x in str_list]\n",
    "print(int_list)  "
   ]
  },
  {
   "cell_type": "code",
   "execution_count": 98,
   "id": "ae98c25d-827a-441b-a8e8-a9edc6921f7b",
   "metadata": {},
   "outputs": [
    {
     "name": "stdout",
     "output_type": "stream",
     "text": [
      "['1', '2', '3', '4']\n"
     ]
    }
   ],
   "source": [
    "#Q27. Convert a list of integers to a list of strings.\n",
    "\n",
    "int_list = [1, 2, 3, 4]\n",
    "str_list = [str(x) for x in int_list]\n",
    "print(str_list)  "
   ]
  },
  {
   "cell_type": "code",
   "execution_count": 99,
   "id": "f4069511-337b-45ad-8907-63aa4a259e76",
   "metadata": {},
   "outputs": [
    {
     "name": "stdout",
     "output_type": "stream",
     "text": [
      "[1, 2, 3, 4, 5, 6]\n"
     ]
    }
   ],
   "source": [
    "#Q28. Flatten a nested list\n",
    "\n",
    "nested_list = [[1, 2], [3, 4], [5, 6]]\n",
    "flat_list = [item for sublist in nested_list for item in sublist]\n",
    "print(flat_list)  "
   ]
  },
  {
   "cell_type": "code",
   "execution_count": 100,
   "id": "6f30359b-43d6-4e19-bd48-79aaae92b094",
   "metadata": {},
   "outputs": [
    {
     "name": "stdout",
     "output_type": "stream",
     "text": [
      "[0, 1, 1, 2, 3, 5, 8, 13, 21, 34]\n"
     ]
    }
   ],
   "source": [
    "#Q29. Create a list of the first 10 Fibonacci numbers\n",
    "\n",
    "fibonacci = [0, 1]\n",
    "for i in range(2, 10):\n",
    "    fibonacci.append(fibonacci[i-1] + fibonacci[i-2])\n",
    "print(fibonacci)  "
   ]
  },
  {
   "cell_type": "code",
   "execution_count": 101,
   "id": "32c236f7-af0e-4993-a6f1-67b3f1543e7b",
   "metadata": {},
   "outputs": [
    {
     "name": "stdout",
     "output_type": "stream",
     "text": [
      "True\n",
      "False\n"
     ]
    }
   ],
   "source": [
    "#Q30. Check if a list is sorted\n",
    "\n",
    "def is_sorted(lst):\n",
    "    return lst == sorted(lst)\n",
    "\n",
    "print(is_sorted([1, 2, 3]))   \n",
    "print(is_sorted([3, 2, 1]))"
   ]
  },
  {
   "cell_type": "code",
   "execution_count": 102,
   "id": "bd00e2ae-8e24-465d-acb0-bc6b8ba10894",
   "metadata": {},
   "outputs": [
    {
     "name": "stdout",
     "output_type": "stream",
     "text": [
      "[3, 4, 5, 1, 2]\n"
     ]
    }
   ],
   "source": [
    "#Q31. Rotate a list to the left by `n` positions\n",
    "\n",
    "lst = [1, 2, 3, 4, 5]\n",
    "n = 2\n",
    "rotated_left = lst[n:] + lst[:n]\n",
    "print(rotated_left)  "
   ]
  },
  {
   "cell_type": "code",
   "execution_count": 103,
   "id": "359c718f-483a-426a-a639-218552b788b5",
   "metadata": {},
   "outputs": [
    {
     "name": "stdout",
     "output_type": "stream",
     "text": [
      "[4, 5, 1, 2, 3]\n"
     ]
    }
   ],
   "source": [
    "#Q32. Rotate a list to the right by `n` positions.\n",
    "\n",
    "lst = [1, 2, 3, 4, 5]\n",
    "n = 2\n",
    "rotated_right = lst[-n:] + lst[:-n]\n",
    "print(rotated_right)  "
   ]
  },
  {
   "cell_type": "code",
   "execution_count": 104,
   "id": "6fa6d378-480c-4c39-943f-31c31f116f12",
   "metadata": {},
   "outputs": [
    {
     "name": "stdout",
     "output_type": "stream",
     "text": [
      "[2, 3, 5, 7, 11, 13, 17, 19, 23, 29, 31, 37, 41, 43, 47]\n"
     ]
    }
   ],
   "source": [
    "#Q33 Create a list of prime numbers up to 50\n",
    "\n",
    "def is_prime(num):\n",
    "    if num < 2:\n",
    "        return False\n",
    "    for i in range(2, int(num**0.5)+1):\n",
    "        if num % i == 0:\n",
    "            return False\n",
    "    return True\n",
    "\n",
    "primes = [x for x in range(2, 51) if is_prime(x)]\n",
    "print(primes)"
   ]
  },
  {
   "cell_type": "code",
   "execution_count": 105,
   "id": "4258e219-9398-414b-8565-717e75ca7e9e",
   "metadata": {},
   "outputs": [
    {
     "name": "stdout",
     "output_type": "stream",
     "text": [
      "[[1, 2, 3], [4, 5, 6], [7]]\n"
     ]
    }
   ],
   "source": [
    "#Q34. Split a list into chunks of size `n`\n",
    "\n",
    "def split_into_chunks(lst, n):\n",
    "    return [lst[i:i+n] for i in range(0, len(lst), n)]\n",
    "\n",
    "lst = [1, 2, 3, 4, 5, 6, 7]\n",
    "chunks = split_into_chunks(lst, 3)\n",
    "print(chunks)  "
   ]
  },
  {
   "cell_type": "code",
   "execution_count": 106,
   "id": "5c44bc90-e5d8-44fa-b55d-1a0e85116e42",
   "metadata": {},
   "outputs": [
    {
     "name": "stdout",
     "output_type": "stream",
     "text": [
      "45\n"
     ]
    }
   ],
   "source": [
    "#Q35. Find the second largest number in a list\n",
    "\n",
    "lst = [10, 20, 4, 45, 99]\n",
    "unique_lst = list(set(lst))\n",
    "unique_lst.sort()\n",
    "second_largest = unique_lst[-2]\n",
    "print(second_largest) "
   ]
  },
  {
   "cell_type": "code",
   "execution_count": 107,
   "id": "220e4197-4143-4e05-be68-96d78fc6705b",
   "metadata": {},
   "outputs": [
    {
     "name": "stdout",
     "output_type": "stream",
     "text": [
      "[1, 4, 9, 16, 25]\n"
     ]
    }
   ],
   "source": [
    "#Q36. Replace every element in a list with its square\n",
    "\n",
    "lst = [1, 2, 3, 4, 5]\n",
    "squared = [x**2 for x in lst]\n",
    "print(squared)  "
   ]
  },
  {
   "cell_type": "code",
   "execution_count": 108,
   "id": "d8307424-3f11-4705-a05f-bdd2156f6639",
   "metadata": {},
   "outputs": [
    {
     "name": "stdout",
     "output_type": "stream",
     "text": [
      "{'a': 0, 'b': 1, 'c': 2}\n"
     ]
    }
   ],
   "source": [
    "#Q37. Convert a list to a dictionary where list elements become keys and their indices become values\n",
    "\n",
    "lst = ['a', 'b', 'c']\n",
    "dict_from_list = {value: index for index, value in enumerate(lst)}\n",
    "print(dict_from_list)  "
   ]
  },
  {
   "cell_type": "code",
   "execution_count": 109,
   "id": "87c2a5c1-90c3-46b3-8438-8831f7872e1e",
   "metadata": {},
   "outputs": [
    {
     "name": "stdout",
     "output_type": "stream",
     "text": [
      "[5, 1, 2, 3, 4]\n"
     ]
    }
   ],
   "source": [
    "#Q38. Shuffle the elements of a list randomly\n",
    "\n",
    "import random\n",
    "\n",
    "lst = [1, 2, 3, 4, 5]\n",
    "random.shuffle(lst)\n",
    "print(lst)  "
   ]
  },
  {
   "cell_type": "code",
   "execution_count": 110,
   "id": "a841db74-0ceb-4e6e-9bb1-19be498b05e5",
   "metadata": {},
   "outputs": [
    {
     "name": "stdout",
     "output_type": "stream",
     "text": [
      "[1, 1, 2, 6, 24, 120, 720, 5040, 40320, 362880]\n"
     ]
    }
   ],
   "source": [
    "#Q39. Create a list of the first 10 factorial numbers.\n",
    "\n",
    "import math\n",
    "\n",
    "factorials = [math.factorial(i) for i in range(10)]\n",
    "print(factorials)  "
   ]
  },
  {
   "cell_type": "code",
   "execution_count": 111,
   "id": "9be173bb-8b2f-43a6-ba6d-2a6c1fa9ab2e",
   "metadata": {},
   "outputs": [
    {
     "name": "stdout",
     "output_type": "stream",
     "text": [
      "True\n"
     ]
    }
   ],
   "source": [
    "#Q40. Check if two lists have at least one element in common\n",
    "\n",
    "list1 = [1, 2, 3]\n",
    "list2 = [4, 5, 3]\n",
    "\n",
    "common = any(elem in list2 for elem in list1)\n",
    "print(common)  "
   ]
  },
  {
   "cell_type": "code",
   "execution_count": 112,
   "id": "8c89a98b-c1f9-46a6-8370-8186bcd903c8",
   "metadata": {},
   "outputs": [
    {
     "name": "stdout",
     "output_type": "stream",
     "text": [
      "[]\n"
     ]
    }
   ],
   "source": [
    "#Q41. Remove all elements from a list.\n",
    "\n",
    "lst = [1, 2, 3, 4]\n",
    "lst.clear()\n",
    "print(lst)  "
   ]
  },
  {
   "cell_type": "code",
   "execution_count": 113,
   "id": "59f4cab8-a8a8-45cb-8698-7a42ef14ccac",
   "metadata": {},
   "outputs": [
    {
     "name": "stdout",
     "output_type": "stream",
     "text": [
      "[5, 0, 7, 0, 0, 0]\n"
     ]
    }
   ],
   "source": [
    "#Q42. Replace negative numbers in a list with 0\n",
    "\n",
    "lst = [5, -3, 7, -1, 0, -8]\n",
    "new_lst = [0 if x < 0 else x for x in lst]\n",
    "print(new_lst)  "
   ]
  },
  {
   "cell_type": "code",
   "execution_count": 114,
   "id": "25d5a2f2-b445-467d-8302-5b6aa28e7fba",
   "metadata": {},
   "outputs": [
    {
     "name": "stdout",
     "output_type": "stream",
     "text": [
      "['Data', 'science', 'is', 'powerful']\n"
     ]
    }
   ],
   "source": [
    "#Q43. Convert a string into a list of words\n",
    "\n",
    "sentence = \"Data science is powerful\"\n",
    "words = sentence.split()\n",
    "print(words)  "
   ]
  },
  {
   "cell_type": "code",
   "execution_count": 115,
   "id": "278c6577-0e9e-41f2-b8a3-25da500136bb",
   "metadata": {},
   "outputs": [
    {
     "name": "stdout",
     "output_type": "stream",
     "text": [
      "Data science is powerful\n"
     ]
    }
   ],
   "source": [
    "#Q44. Convert a list of words into a string\n",
    "\n",
    "words = ['Data', 'science', 'is', 'powerful']\n",
    "sentence = ' '.join(words)\n",
    "print(sentence)  "
   ]
  },
  {
   "cell_type": "code",
   "execution_count": 116,
   "id": "def39d57-a9fd-47ac-852c-e8042657bff9",
   "metadata": {},
   "outputs": [
    {
     "name": "stdout",
     "output_type": "stream",
     "text": [
      "[1, 2, 4, 8, 16, 32, 64, 128, 256, 512]\n"
     ]
    }
   ],
   "source": [
    "#Q45. Create a list of the first `n` powers of 2\n",
    "\n",
    "n = 10\n",
    "powers_of_2 = [2**i for i in range(n)]\n",
    "print(powers_of_2)  "
   ]
  },
  {
   "cell_type": "code",
   "execution_count": 117,
   "id": "e159a1fc-f700-484f-8952-42bcd12db7f4",
   "metadata": {},
   "outputs": [
    {
     "name": "stdout",
     "output_type": "stream",
     "text": [
      "grapefruit\n"
     ]
    }
   ],
   "source": [
    "#Q46. Find the longest string in a list of strings\n",
    "\n",
    "words = [\"apple\", \"banana\", \"grapefruit\", \"kiwi\"]\n",
    "longest = max(words, key=len)\n",
    "print(longest)  "
   ]
  },
  {
   "cell_type": "code",
   "execution_count": 118,
   "id": "59739697-c400-49c3-8bed-4defe2ff2bd5",
   "metadata": {},
   "outputs": [
    {
     "name": "stdout",
     "output_type": "stream",
     "text": [
      "kiwi\n"
     ]
    }
   ],
   "source": [
    "#Q47. Find the shortest string in a list of strings\n",
    "\n",
    "words = [\"apple\", \"banana\", \"grapefruit\", \"kiwi\"]\n",
    "shortest = min(words, key=len)\n",
    "print(shortest)  "
   ]
  },
  {
   "cell_type": "code",
   "execution_count": 119,
   "id": "b63e8170-5dcc-46c4-8f87-fd75f6cdfaac",
   "metadata": {},
   "outputs": [
    {
     "name": "stdout",
     "output_type": "stream",
     "text": [
      "[1, 3, 6, 10, 15, 21, 28, 36, 45, 55]\n"
     ]
    }
   ],
   "source": [
    "#Q48. Create a list of the first `n` triangular numbers\n",
    "\n",
    "n = 10\n",
    "triangular_numbers = [int(i * (i + 1) / 2) for i in range(1, n + 1)]\n",
    "print(triangular_numbers)  "
   ]
  },
  {
   "cell_type": "code",
   "execution_count": 120,
   "id": "634e8648-63eb-4a7b-8076-c0760c28f00f",
   "metadata": {},
   "outputs": [
    {
     "name": "stdout",
     "output_type": "stream",
     "text": [
      "True\n"
     ]
    }
   ],
   "source": [
    "#Q49. Check if a list contains another list as a subsequence\n",
    "\n",
    "def is_subsequence(main_list, sub_list):\n",
    "    it = iter(main_list)\n",
    "    return all(elem in it for elem in sub_list)\n",
    "\n",
    "main = [1, 2, 3, 4, 5]\n",
    "sub = [2, 4]\n",
    "print(is_subsequence(main, sub))  "
   ]
  },
  {
   "cell_type": "code",
   "execution_count": 121,
   "id": "bd12ec0c-2d12-4e4a-ba8d-9c4f2e946547",
   "metadata": {},
   "outputs": [
    {
     "name": "stdout",
     "output_type": "stream",
     "text": [
      "[10, 40, 30, 20, 50]\n"
     ]
    }
   ],
   "source": [
    "#Q50. Swap two elements in a list by their indices\n",
    "\n",
    "lst = [10, 20, 30, 40, 50]\n",
    "i, j = 1, 3\n",
    "lst[i], lst[j] = lst[j], lst[i]\n",
    "print(lst)  "
   ]
  },
  {
   "cell_type": "markdown",
   "id": "e94d7ca8-1aaf-41e5-982d-c67ed66cbc0a",
   "metadata": {},
   "source": [
    "                                               :: Tuple Based Practice Problem ::"
   ]
  },
  {
   "cell_type": "code",
   "execution_count": 251,
   "id": "508bd0c1-6bcf-4d5d-87eb-647e47a0e2fd",
   "metadata": {},
   "outputs": [
    {
     "name": "stdout",
     "output_type": "stream",
     "text": [
      "(1, 2, 3, 4, 5)\n"
     ]
    }
   ],
   "source": [
    "#Q1. Create a tuple with integers from 1 to 5\n",
    "\n",
    "tuple1 = (1, 2, 3, 4, 5)\n",
    "print(tuple1)"
   ]
  },
  {
   "cell_type": "code",
   "execution_count": 127,
   "id": "f21c69bf-23bd-4ae5-bba4-ec011893d34c",
   "metadata": {},
   "outputs": [
    {
     "name": "stdout",
     "output_type": "stream",
     "text": [
      "3\n"
     ]
    }
   ],
   "source": [
    "#Q2. Access the third element of a tuple\n",
    "\n",
    "third_element = tuple1[2]\n",
    "print(third_element)"
   ]
  },
  {
   "cell_type": "code",
   "execution_count": 128,
   "id": "c6bedde6-f396-44c8-aec5-2e5bef4d09ad",
   "metadata": {},
   "outputs": [
    {
     "name": "stdout",
     "output_type": "stream",
     "text": [
      "5\n"
     ]
    }
   ],
   "source": [
    "#Q3. Find the length of a tuple without using the `len()` function\n",
    "\n",
    "length = sum(1 for _ in tuple1)\n",
    "print(length)"
   ]
  },
  {
   "cell_type": "code",
   "execution_count": 129,
   "id": "b8f29812-81a7-4237-ac46-db80da832afe",
   "metadata": {},
   "outputs": [
    {
     "name": "stdout",
     "output_type": "stream",
     "text": [
      "1\n"
     ]
    }
   ],
   "source": [
    "#Q4. Count the occurrences of an element in a tuple\n",
    "\n",
    "count_3 = tuple1.count(3)\n",
    "print(count_3)"
   ]
  },
  {
   "cell_type": "code",
   "execution_count": 130,
   "id": "30d77a56-299a-47c4-bce3-c41bf3b76a02",
   "metadata": {},
   "outputs": [
    {
     "name": "stdout",
     "output_type": "stream",
     "text": [
      "3\n"
     ]
    }
   ],
   "source": [
    "#Q5. Find the index of the first occurrence of an element in a tuple\n",
    "\n",
    "index_4 = tuple1.index(4)\n",
    "print(index_4)"
   ]
  },
  {
   "cell_type": "code",
   "execution_count": 250,
   "id": "29009b7a-674b-40da-b3fd-02e5a1ca500b",
   "metadata": {},
   "outputs": [
    {
     "name": "stdout",
     "output_type": "stream",
     "text": [
      "True\n"
     ]
    }
   ],
   "source": [
    "#Q6. Check if an element exists in a tuple\n",
    "\n",
    "exists = 5 in tuple1\n",
    "print(exists)"
   ]
  },
  {
   "cell_type": "code",
   "execution_count": 132,
   "id": "4ab1e068-af13-4045-aed2-048d6ad123c2",
   "metadata": {},
   "outputs": [
    {
     "name": "stdout",
     "output_type": "stream",
     "text": [
      "[1, 2, 3, 4, 5]\n"
     ]
    }
   ],
   "source": [
    "#Q7. Convert a tuple to a list\n",
    "\n",
    "list_from_tuple = list(tuple1)\n",
    "print(list_from_tuple)"
   ]
  },
  {
   "cell_type": "code",
   "execution_count": 133,
   "id": "9142e48c-f0ed-4c30-b4ed-b62e94ee635a",
   "metadata": {},
   "outputs": [
    {
     "name": "stdout",
     "output_type": "stream",
     "text": [
      "(6, 7, 8)\n"
     ]
    }
   ],
   "source": [
    "#Q8. Convert a list to a tuple\n",
    "\n",
    "lst = [6, 7, 8]\n",
    "tuple_from_list = tuple(lst)\n",
    "print(tuple_from_list)"
   ]
  },
  {
   "cell_type": "code",
   "execution_count": 134,
   "id": "af7b4d01-d822-40d8-8298-7f0efc17b77a",
   "metadata": {},
   "outputs": [
    {
     "name": "stdout",
     "output_type": "stream",
     "text": [
      "1 2 3 4 5\n"
     ]
    }
   ],
   "source": [
    "#Q9. Unpack the elements of a tuple into variables\n",
    "\n",
    "a, b, c, d, e = tuple1\n",
    "print(a, b, c, d, e)"
   ]
  },
  {
   "cell_type": "code",
   "execution_count": 135,
   "id": "d302b4ef-4c85-4287-958b-71190e05d616",
   "metadata": {},
   "outputs": [
    {
     "name": "stdout",
     "output_type": "stream",
     "text": [
      "(2, 4, 6, 8, 10)\n"
     ]
    }
   ],
   "source": [
    "#Q10. Create a tuple of even numbers from 1 to 10\n",
    "\n",
    "even_tuple = tuple(i for i in range(1, 11) if i % 2 == 0)\n",
    "print(even_tuple)"
   ]
  },
  {
   "cell_type": "code",
   "execution_count": 249,
   "id": "078a5707-e76b-47d3-89a5-ea5c7ec36a25",
   "metadata": {},
   "outputs": [
    {
     "name": "stdout",
     "output_type": "stream",
     "text": [
      "(1, 3, 5, 7, 9)\n"
     ]
    }
   ],
   "source": [
    "#Q11. Create a tuple of odd numbers from 1 to 10\n",
    "\n",
    "odd_tuple = tuple(i for i in range(1, 11) if i % 2 != 0)\n",
    "print(odd_tuple)"
   ]
  },
  {
   "cell_type": "code",
   "execution_count": 137,
   "id": "3045f299-ff9c-4caa-8e3b-626d4e94423e",
   "metadata": {},
   "outputs": [
    {
     "name": "stdout",
     "output_type": "stream",
     "text": [
      "(1, 2, 3, 4, 5, 6)\n"
     ]
    }
   ],
   "source": [
    "#Q12. Concatenate two tuples\n",
    "\n",
    "tuple_a = (1, 2, 3)\n",
    "tuple_b = (4, 5, 6)\n",
    "concatenated = tuple_a + tuple_b\n",
    "print(concatenated)"
   ]
  },
  {
   "cell_type": "code",
   "execution_count": 138,
   "id": "89b81bc7-613c-4da2-ae2b-c93549b40ee2",
   "metadata": {},
   "outputs": [
    {
     "name": "stdout",
     "output_type": "stream",
     "text": [
      "(1, 2, 3, 1, 2, 3, 1, 2, 3)\n"
     ]
    }
   ],
   "source": [
    "#Q13. Repeat a tuple three times\n",
    "\n",
    "repeated = tuple_a * 3\n",
    "print(repeated)"
   ]
  },
  {
   "cell_type": "code",
   "execution_count": 139,
   "id": "5979954e-e83c-4e9f-8e60-270e9d94ba56",
   "metadata": {},
   "outputs": [
    {
     "name": "stdout",
     "output_type": "stream",
     "text": [
      "True\n"
     ]
    }
   ],
   "source": [
    "#Q14. Check if a tuple is empty\n",
    "\n",
    "empty_tuple = ()\n",
    "print(len(empty_tuple) == 0)"
   ]
  },
  {
   "cell_type": "code",
   "execution_count": 140,
   "id": "5b7f4866-52a2-424b-87ad-6272672772a2",
   "metadata": {},
   "outputs": [
    {
     "name": "stdout",
     "output_type": "stream",
     "text": [
      "(1, 2, (3, 4), 5)\n"
     ]
    }
   ],
   "source": [
    "#Q15. Create a nested tuple\n",
    "\n",
    "nested_tuple = (1, 2, (3, 4), 5)\n",
    "print(nested_tuple)"
   ]
  },
  {
   "cell_type": "code",
   "execution_count": 141,
   "id": "906e0085-bc2e-47e8-858a-acbf0d41813a",
   "metadata": {},
   "outputs": [
    {
     "name": "stdout",
     "output_type": "stream",
     "text": [
      "3\n"
     ]
    }
   ],
   "source": [
    "#Q16. Access the first element of a nested tuple.\n",
    "\n",
    "first_nested = nested_tuple[2][0]\n",
    "print(first_nested)"
   ]
  },
  {
   "cell_type": "code",
   "execution_count": 248,
   "id": "6584f95f-1b6b-4c16-ac3c-64c036d6210b",
   "metadata": {},
   "outputs": [
    {
     "name": "stdout",
     "output_type": "stream",
     "text": [
      "(7,)\n"
     ]
    }
   ],
   "source": [
    "#Q17. Create a tuple with a single element\n",
    "\n",
    "single_element_tuple = (7,)\n",
    "print(single_element_tuple)"
   ]
  },
  {
   "cell_type": "code",
   "execution_count": 143,
   "id": "7e19cb50-50d2-44c8-aba4-ff58257eb92c",
   "metadata": {},
   "outputs": [
    {
     "name": "stdout",
     "output_type": "stream",
     "text": [
      "False\n",
      "True\n"
     ]
    }
   ],
   "source": [
    "#Q18. Compare two tuples\n",
    "\n",
    "t1 = (1, 2, 3)\n",
    "t2 = (1, 2, 4)\n",
    "print(t1 == t2)\n",
    "print(t1 < t2)"
   ]
  },
  {
   "cell_type": "code",
   "execution_count": 144,
   "id": "b6161c6e-dea3-4081-a638-2bbe7371815a",
   "metadata": {},
   "outputs": [],
   "source": [
    "#Q19. Delete a tuple\n",
    "\n",
    "del t1"
   ]
  },
  {
   "cell_type": "code",
   "execution_count": 247,
   "id": "baab65a9-0987-499c-a9c0-fddd2b4cef93",
   "metadata": {},
   "outputs": [
    {
     "name": "stdout",
     "output_type": "stream",
     "text": [
      "(20, 30, 40)\n"
     ]
    }
   ],
   "source": [
    "#Q20. Slice a tuple\n",
    "\n",
    "t = (10, 20, 30, 40, 50)\n",
    "slice_t = t[1:4]\n",
    "print(slice_t)"
   ]
  },
  {
   "cell_type": "code",
   "execution_count": 146,
   "id": "81fab14d-2ffb-46ab-9f41-97e64b66e999",
   "metadata": {},
   "outputs": [
    {
     "name": "stdout",
     "output_type": "stream",
     "text": [
      "25\n"
     ]
    }
   ],
   "source": [
    "#Q21. Find the maximum value in a tuple\n",
    "\n",
    "t = (5, 10, 15, 20, 25)\n",
    "print(max(t))"
   ]
  },
  {
   "cell_type": "code",
   "execution_count": 147,
   "id": "5e89a5ab-dbc9-4e83-8c54-b5ac39175b3b",
   "metadata": {},
   "outputs": [
    {
     "name": "stdout",
     "output_type": "stream",
     "text": [
      "5\n"
     ]
    }
   ],
   "source": [
    "#Q22. Find the minimum value in a tuple\n",
    "\n",
    "print(min(t))"
   ]
  },
  {
   "cell_type": "code",
   "execution_count": 148,
   "id": "761c4d15-6317-4926-a0b0-3662dc689993",
   "metadata": {},
   "outputs": [
    {
     "name": "stdout",
     "output_type": "stream",
     "text": [
      "('h', 'e', 'l', 'l', 'o')\n"
     ]
    }
   ],
   "source": [
    "#Q23. Convert a string to a tuple of characters\n",
    "\n",
    "s = \"hello\"\n",
    "tuple_chars = tuple(s)\n",
    "print(tuple_chars)"
   ]
  },
  {
   "cell_type": "code",
   "execution_count": 246,
   "id": "b8fb3a19-6e45-4135-a388-6716442e75c9",
   "metadata": {},
   "outputs": [
    {
     "name": "stdout",
     "output_type": "stream",
     "text": [
      "hello\n"
     ]
    }
   ],
   "source": [
    "#Q24. Convert a tuple of characters to a string\n",
    "\n",
    "chars = ('h', 'e', 'l', 'l', 'o')\n",
    "string_from_tuple = ''.join(chars)\n",
    "print(string_from_tuple)"
   ]
  },
  {
   "cell_type": "code",
   "execution_count": 150,
   "id": "615f3cfa-c862-43b0-bc3e-e13b53ea648b",
   "metadata": {},
   "outputs": [
    {
     "name": "stdout",
     "output_type": "stream",
     "text": [
      "(1, 'hello', 3.14, True)\n"
     ]
    }
   ],
   "source": [
    "#Q25. Create a tuple from multiple data types\n",
    "\n",
    "mixed_tuple = (1, \"hello\", 3.14, True)\n",
    "print(mixed_tuple)"
   ]
  },
  {
   "cell_type": "code",
   "execution_count": 151,
   "id": "10ab80e6-3ddc-4ef1-955e-ed073e7cd68e",
   "metadata": {},
   "outputs": [
    {
     "name": "stdout",
     "output_type": "stream",
     "text": [
      "True\n"
     ]
    }
   ],
   "source": [
    "#Q26. Check if two tuples are identical\n",
    "\n",
    "t1 = (1, 2, 3)\n",
    "t2 = (1, 2, 3)\n",
    "print(t1 == t2)"
   ]
  },
  {
   "cell_type": "code",
   "execution_count": 152,
   "id": "761e3bdf-575c-476d-94e2-e2e055f61372",
   "metadata": {},
   "outputs": [
    {
     "name": "stdout",
     "output_type": "stream",
     "text": [
      "(1, 2, 3, 4, 5)\n"
     ]
    }
   ],
   "source": [
    "#Q27. Sort the elements of a tuple\n",
    "\n",
    "t = (3, 1, 4, 2, 5)\n",
    "sorted_tuple = tuple(sorted(t))\n",
    "print(sorted_tuple)"
   ]
  },
  {
   "cell_type": "code",
   "execution_count": 153,
   "id": "f015e0e2-3985-442b-940e-1e972a1f12bf",
   "metadata": {},
   "outputs": [
    {
     "name": "stdout",
     "output_type": "stream",
     "text": [
      "('1', '2', '3')\n"
     ]
    }
   ],
   "source": [
    "#Q28. Convert a tuple of integers to a tuple of strings\n",
    "\n",
    "int_tuple = (1, 2, 3)\n",
    "str_tuple = tuple(str(i) for i in int_tuple)\n",
    "print(str_tuple)"
   ]
  },
  {
   "cell_type": "code",
   "execution_count": 154,
   "id": "86224282-bcd6-4f9e-91a5-5c4e51e60683",
   "metadata": {},
   "outputs": [
    {
     "name": "stdout",
     "output_type": "stream",
     "text": [
      "(1, 2, 3)\n"
     ]
    }
   ],
   "source": [
    "#Q29. Convert a tuple of strings to a tuple of integers.\n",
    "\n",
    "str_tuple = ('1', '2', '3')\n",
    "int_tuple = tuple(int(s) for s in str_tuple)\n",
    "print(int_tuple)"
   ]
  },
  {
   "cell_type": "code",
   "execution_count": 245,
   "id": "4afa7f4d-9488-4331-98cd-a1e3421e8bc4",
   "metadata": {},
   "outputs": [
    {
     "name": "stdout",
     "output_type": "stream",
     "text": [
      "(1, 2, 3, 4, 5, 6)\n"
     ]
    }
   ],
   "source": [
    "#Q30. Merge two tuples.\n",
    "\n",
    "t1 = (1, 2, 3)\n",
    "t2 = (4, 5, 6)\n",
    "merged = t1 + t2\n",
    "print(merged)"
   ]
  },
  {
   "cell_type": "code",
   "execution_count": 156,
   "id": "0b59429f-2eeb-435b-af17-e082a5d39f0a",
   "metadata": {},
   "outputs": [
    {
     "name": "stdout",
     "output_type": "stream",
     "text": [
      "(1, 2, 3, 4, 5)\n"
     ]
    }
   ],
   "source": [
    "#Q31. Flatten a nested tuple\n",
    "\n",
    "nested_tuple = (1, (2, 3), (4, 5))\n",
    "flattened = ()\n",
    "\n",
    "for item in nested_tuple:\n",
    "    if isinstance(item, tuple):\n",
    "        flattened += item\n",
    "    else:\n",
    "        flattened += (item,)\n",
    "\n",
    "print(flattened)"
   ]
  },
  {
   "cell_type": "code",
   "execution_count": 244,
   "id": "84ba60e4-2607-4526-9713-f00d37fd2242",
   "metadata": {},
   "outputs": [
    {
     "name": "stdout",
     "output_type": "stream",
     "text": [
      "(2, 3, 5, 7, 11)\n"
     ]
    }
   ],
   "source": [
    "#Q32. Create a tuple of the first 5 prime numbers\n",
    "\n",
    "primes = (2, 3, 5, 7, 11)\n",
    "print(primes)"
   ]
  },
  {
   "cell_type": "code",
   "execution_count": 158,
   "id": "2ac4b3c6-015b-43e7-b10e-e0b803d2b794",
   "metadata": {},
   "outputs": [
    {
     "name": "stdout",
     "output_type": "stream",
     "text": [
      "True\n"
     ]
    }
   ],
   "source": [
    "#Q33. Check if a tuple is a palindrome.\n",
    "\n",
    "t = (1, 2, 3, 2, 1)\n",
    "print(t == t[::-1])"
   ]
  },
  {
   "cell_type": "code",
   "execution_count": 159,
   "id": "3a187802-59ea-42b5-b816-ffdf0552c470",
   "metadata": {},
   "outputs": [
    {
     "name": "stdout",
     "output_type": "stream",
     "text": [
      "(1, 4, 9, 16, 25)\n"
     ]
    }
   ],
   "source": [
    "#Q34. Create a tuple of squares of numbers from 1 to 5\n",
    "\n",
    "squares = tuple(i**2 for i in range(1, 6))\n",
    "print(squares)"
   ]
  },
  {
   "cell_type": "code",
   "execution_count": 160,
   "id": "ea03c75a-e79a-4af2-b67b-33c015b58428",
   "metadata": {},
   "outputs": [
    {
     "name": "stdout",
     "output_type": "stream",
     "text": [
      "(1, 3, 5)\n"
     ]
    }
   ],
   "source": [
    "#Q35. Filter out all even numbers from a tuple\n",
    "\n",
    "t = (1, 2, 3, 4, 5, 6)\n",
    "filtered = tuple(i for i in t if i % 2 != 0)\n",
    "print(filtered)"
   ]
  },
  {
   "cell_type": "code",
   "execution_count": 161,
   "id": "47d5a0cd-faac-464f-9295-91441f73d8ea",
   "metadata": {},
   "outputs": [
    {
     "name": "stdout",
     "output_type": "stream",
     "text": [
      "(2, 4, 6)\n"
     ]
    }
   ],
   "source": [
    "#Q36. Multiply all elements in a tuple by 2\n",
    "\n",
    "t = (1, 2, 3)\n",
    "multiplied = tuple(i * 2 for i in t)\n",
    "print(multiplied)"
   ]
  },
  {
   "cell_type": "code",
   "execution_count": 162,
   "id": "231a60ea-e9b9-448a-8410-e6e6554fd214",
   "metadata": {},
   "outputs": [
    {
     "name": "stdout",
     "output_type": "stream",
     "text": [
      "(48, 73, 38, 74, 70)\n"
     ]
    }
   ],
   "source": [
    "#Q37. Create a tuple of random numbers\n",
    "\n",
    "import random\n",
    "random_tuple = tuple(random.randint(1, 100) for _ in range(5))\n",
    "print(random_tuple)"
   ]
  },
  {
   "cell_type": "code",
   "execution_count": 243,
   "id": "3969c60f-6f99-4811-8519-e84578d49ff4",
   "metadata": {},
   "outputs": [
    {
     "name": "stdout",
     "output_type": "stream",
     "text": [
      "True\n"
     ]
    }
   ],
   "source": [
    "#Q38. Check if a tuple is sorted\n",
    "\n",
    "t = (1, 2, 3, 4)\n",
    "print(all(t[i] <= t[i+1] for i in range(len(t)-1)))"
   ]
  },
  {
   "cell_type": "code",
   "execution_count": 164,
   "id": "5637a7ac-07c0-45d2-bc69-c028352ffc8a",
   "metadata": {},
   "outputs": [
    {
     "name": "stdout",
     "output_type": "stream",
     "text": [
      "(3, 4, 5, 1, 2)\n"
     ]
    }
   ],
   "source": [
    "#Q39. Rotate a tuple to the left by `n` positions.\n",
    "\n",
    "t = (1, 2, 3, 4, 5)\n",
    "n = 2\n",
    "rotated = t[n:] + t[:n]\n",
    "print(rotated)"
   ]
  },
  {
   "cell_type": "code",
   "execution_count": 165,
   "id": "1e09a04e-35fb-425a-b234-a6907d78be28",
   "metadata": {},
   "outputs": [
    {
     "name": "stdout",
     "output_type": "stream",
     "text": [
      "(4, 5, 1, 2, 3)\n"
     ]
    }
   ],
   "source": [
    "#Q40. Rotate a tuple to the right by `n` positions.\n",
    "\n",
    "t = (1, 2, 3, 4, 5)\n",
    "n = 2\n",
    "rotated = t[-n:] + t[:-n]\n",
    "print(rotated)"
   ]
  },
  {
   "cell_type": "code",
   "execution_count": 242,
   "id": "c7ba7a1e-05ab-4292-bb40-1fe0fbb369db",
   "metadata": {},
   "outputs": [
    {
     "name": "stdout",
     "output_type": "stream",
     "text": [
      "(0, 1, 1, 2, 3)\n"
     ]
    }
   ],
   "source": [
    "#Q41. Create a tuple of the first 5 Fibonacci numbers\n",
    "\n",
    "fib = (0, 1, 1, 2, 3)\n",
    "print(fib)"
   ]
  },
  {
   "cell_type": "code",
   "execution_count": 168,
   "id": "456c51e3-2a1f-4d2d-b313-68e241b4c79b",
   "metadata": {},
   "outputs": [
    {
     "name": "stdin",
     "output_type": "stream",
     "text": [
      "Enter comma-separated values:  Shahreyar\n"
     ]
    },
    {
     "name": "stdout",
     "output_type": "stream",
     "text": [
      "('Shahreyar',)\n"
     ]
    }
   ],
   "source": [
    "#Q42. Create a tuple from user input\n",
    "\n",
    "user_input = input(\"Enter comma-separated values: \")\n",
    "t = tuple(user_input.split(','))\n",
    "print(t)"
   ]
  },
  {
   "cell_type": "code",
   "execution_count": 241,
   "id": "7a76f8a3-1cfb-4933-85fd-46706cf12afe",
   "metadata": {},
   "outputs": [
    {
     "name": "stdout",
     "output_type": "stream",
     "text": [
      "(10, 40, 30, 20)\n"
     ]
    }
   ],
   "source": [
    "#Q43. Swap two elements in a tuple\n",
    "\n",
    "t = (10, 20, 30, 40)\n",
    "lst = list(t)\n",
    "i, j = 1, 3\n",
    "lst[i], lst[j] = lst[j], lst[i]\n",
    "t = tuple(lst)\n",
    "print(t)"
   ]
  },
  {
   "cell_type": "code",
   "execution_count": 170,
   "id": "c4b0c55e-6327-46b7-beec-353a92910a6a",
   "metadata": {},
   "outputs": [
    {
     "name": "stdout",
     "output_type": "stream",
     "text": [
      "(5, 4, 3, 2, 1)\n"
     ]
    }
   ],
   "source": [
    "#Q44. Reverse the elements of a tuple.\n",
    "\n",
    "t = (1, 2, 3, 4, 5)\n",
    "reversed_t = t[::-1]\n",
    "print(reversed_t)"
   ]
  },
  {
   "cell_type": "code",
   "execution_count": 171,
   "id": "46610f85-b6ce-4da3-962d-0bb13ea6d09f",
   "metadata": {},
   "outputs": [
    {
     "name": "stdout",
     "output_type": "stream",
     "text": [
      "(1, 2, 4, 8, 16)\n"
     ]
    }
   ],
   "source": [
    "#Q45. Create a tuple of the first `n` powers of 2.\n",
    "\n",
    "n = 5\n",
    "powers = tuple(2 ** i for i in range(n))\n",
    "print(powers)"
   ]
  },
  {
   "cell_type": "code",
   "execution_count": 240,
   "id": "9a57d5e2-d0b2-4210-8d4b-c4808803f9cf",
   "metadata": {},
   "outputs": [
    {
     "name": "stdout",
     "output_type": "stream",
     "text": [
      "Shahreyar\n"
     ]
    }
   ],
   "source": [
    "#Q46. Find the longest string in a tuple of strings\n",
    "\n",
    "t = (\"apple\", \"Shahreyar\", \"cherry\", \"date\")\n",
    "longest = max(t, key=len)\n",
    "print(longest)"
   ]
  },
  {
   "cell_type": "code",
   "execution_count": 174,
   "id": "76a97db1-ee98-4446-bc8e-bdb92bfe01a4",
   "metadata": {},
   "outputs": [
    {
     "name": "stdout",
     "output_type": "stream",
     "text": [
      "date\n"
     ]
    }
   ],
   "source": [
    "#Q47. Find the shortest string in a tuple of strings\n",
    "\n",
    "t = (\"apple\", \"Shahreyar\", \"cherry\", \"date\")\n",
    "shortest = min(t, key=len)\n",
    "print(shortest)"
   ]
  },
  {
   "cell_type": "code",
   "execution_count": 239,
   "id": "97cfbb2f-b6bb-4149-aa46-0bda5336d23b",
   "metadata": {},
   "outputs": [
    {
     "name": "stdout",
     "output_type": "stream",
     "text": [
      "(1, 3, 6, 10, 15)\n"
     ]
    }
   ],
   "source": [
    "#Q48. Create a tuple of the first `n` triangular numbers\n",
    "\n",
    "n = 5\n",
    "triangular = tuple(int(i*(i+1)/2) for i in range(1, n+1))\n",
    "print(triangular)"
   ]
  },
  {
   "cell_type": "code",
   "execution_count": 176,
   "id": "71a93729-6388-4102-b136-0c2bbd7bf1c8",
   "metadata": {},
   "outputs": [
    {
     "name": "stdout",
     "output_type": "stream",
     "text": [
      "True\n"
     ]
    }
   ],
   "source": [
    "#Q49. Check if a tuple contains another tuple as a subsequence\n",
    "\n",
    "t = (1, 2, 3, 4, 5)\n",
    "sub = (2, 4)\n",
    "\n",
    "def is_subsequence(t, sub):\n",
    "    it = iter(t)\n",
    "    return all(elem in it for elem in sub)\n",
    "\n",
    "print(is_subsequence(t, sub))"
   ]
  },
  {
   "cell_type": "code",
   "execution_count": 177,
   "id": "672628ef-e0d4-41b6-bf2f-7ff3354704c8",
   "metadata": {},
   "outputs": [
    {
     "name": "stdout",
     "output_type": "stream",
     "text": [
      "(1, 0, 1, 0, 1, 0)\n"
     ]
    }
   ],
   "source": [
    "#Q50. Create a tuple of alternating 1s and 0s of length `n`\n",
    "\n",
    "n = 6\n",
    "alternating = tuple(1 if i % 2 == 0 else 0 for i in range(n))\n",
    "print(alternating)"
   ]
  },
  {
   "cell_type": "markdown",
   "id": "507dd122-21df-4d8f-8fec-d4eeb0cbba9a",
   "metadata": {},
   "source": [
    "                                                  :: Set Based Practice Problem :: "
   ]
  },
  {
   "cell_type": "code",
   "execution_count": 238,
   "id": "a8ec55f5-61d6-40d5-b130-12361bc719bb",
   "metadata": {},
   "outputs": [
    {
     "name": "stdout",
     "output_type": "stream",
     "text": [
      "{1, 2, 3, 4, 5}\n"
     ]
    }
   ],
   "source": [
    "#Q1. Create a set with integers from 1 to 5\n",
    "\n",
    "s1 = {1, 2, 3, 4, 5}\n",
    "print(s1)"
   ]
  },
  {
   "cell_type": "code",
   "execution_count": 179,
   "id": "efa8eb93-a314-46cc-b202-5d25ba399f8f",
   "metadata": {},
   "outputs": [
    {
     "name": "stdout",
     "output_type": "stream",
     "text": [
      "{1, 2, 3, 4, 5, 6}\n"
     ]
    }
   ],
   "source": [
    "#Q2. Add an element to a set.\n",
    "\n",
    "s1.add(6)\n",
    "print(s1)"
   ]
  },
  {
   "cell_type": "code",
   "execution_count": 180,
   "id": "3ae80a2d-a1be-4a2f-a306-1913bca841cf",
   "metadata": {},
   "outputs": [
    {
     "name": "stdout",
     "output_type": "stream",
     "text": [
      "{1, 2, 4, 5, 6}\n"
     ]
    }
   ],
   "source": [
    "#Q3. Remove an element from a set.\n",
    "\n",
    "s1.remove(3)\n",
    "print(s1)"
   ]
  },
  {
   "cell_type": "code",
   "execution_count": 181,
   "id": "deb436b3-41a3-4223-a7ea-e65541f5c113",
   "metadata": {},
   "outputs": [
    {
     "name": "stdout",
     "output_type": "stream",
     "text": [
      "True\n"
     ]
    }
   ],
   "source": [
    "#Q4. Check if an element exists in a set\n",
    "\n",
    "print(4 in s1)"
   ]
  },
  {
   "cell_type": "code",
   "execution_count": 182,
   "id": "379688e9-cfe4-4a7e-a688-3567ceada4dc",
   "metadata": {},
   "outputs": [
    {
     "name": "stdout",
     "output_type": "stream",
     "text": [
      "5\n"
     ]
    }
   ],
   "source": [
    "#Q5. Find the length of a set without using the `len()` function\n",
    "\n",
    "count = 0\n",
    "for _ in s1:\n",
    "    count += 1\n",
    "print(count)"
   ]
  },
  {
   "cell_type": "code",
   "execution_count": 183,
   "id": "8258df1a-068c-484c-acaa-ad13bf8682f0",
   "metadata": {},
   "outputs": [
    {
     "name": "stdout",
     "output_type": "stream",
     "text": [
      "set()\n"
     ]
    }
   ],
   "source": [
    "#Q6. Clear all elements from a set\n",
    "\n",
    "s1.clear()\n",
    "print(s1) "
   ]
  },
  {
   "cell_type": "code",
   "execution_count": 184,
   "id": "510ba0a2-7f8f-45b3-875a-d2fb7b92ff7a",
   "metadata": {},
   "outputs": [
    {
     "name": "stdout",
     "output_type": "stream",
     "text": [
      "{2, 4, 6, 8, 10}\n"
     ]
    }
   ],
   "source": [
    "#Q7. Create a set of even numbers from 1 to 10\n",
    "\n",
    "even_set = {x for x in range(1, 11) if x % 2 == 0}\n",
    "print(even_set)"
   ]
  },
  {
   "cell_type": "code",
   "execution_count": 237,
   "id": "4ce39436-9d88-49d6-9488-0a5abdce767e",
   "metadata": {},
   "outputs": [
    {
     "name": "stdout",
     "output_type": "stream",
     "text": [
      "{1, 3, 5, 7, 9}\n"
     ]
    }
   ],
   "source": [
    "#Q8. Create a set of odd numbers from 1 to 10\n",
    "\n",
    "odd_set = {x for x in range(1, 11) if x % 2 != 0}\n",
    "print(odd_set)"
   ]
  },
  {
   "cell_type": "code",
   "execution_count": 187,
   "id": "c1e9d638-ffee-4d9b-866c-c7b102be3409",
   "metadata": {},
   "outputs": [
    {
     "name": "stdout",
     "output_type": "stream",
     "text": [
      "{1, 2, 3, 4, 5, 6, 7, 8, 9, 10}\n"
     ]
    }
   ],
   "source": [
    "#Q9. Find the union of two sets\n",
    "\n",
    "union_set = even_set.union(odd_set)\n",
    "print(union_set)"
   ]
  },
  {
   "cell_type": "code",
   "execution_count": 188,
   "id": "b713e816-6897-4ebe-9ad8-93ca2432df8d",
   "metadata": {},
   "outputs": [
    {
     "name": "stdout",
     "output_type": "stream",
     "text": [
      "{2, 4}\n"
     ]
    }
   ],
   "source": [
    "#Q10. Find the intersection of two sets\n",
    "\n",
    "intersect_set = even_set.intersection({2, 3, 4, 5})\n",
    "print(intersect_set)"
   ]
  },
  {
   "cell_type": "code",
   "execution_count": 236,
   "id": "e6e9a409-413d-4c72-b2a6-c96aef7110aa",
   "metadata": {},
   "outputs": [
    {
     "name": "stdout",
     "output_type": "stream",
     "text": [
      "{6, 8, 10, 12, 14}\n"
     ]
    }
   ],
   "source": [
    "#Q11. Find the difference between two sets\n",
    "\n",
    "diff_set = even_set.difference({2, 4})\n",
    "print(diff_set)"
   ]
  },
  {
   "cell_type": "code",
   "execution_count": 190,
   "id": "a8d349ea-f5cc-4f9f-8b6b-9000f998b78c",
   "metadata": {},
   "outputs": [
    {
     "name": "stdout",
     "output_type": "stream",
     "text": [
      "True\n"
     ]
    }
   ],
   "source": [
    "#Q12. Check if a set is a subset of another set\n",
    "\n",
    "print({2, 4}.issubset(even_set))"
   ]
  },
  {
   "cell_type": "code",
   "execution_count": 191,
   "id": "524b494e-a446-493e-a711-ecf6cc810011",
   "metadata": {},
   "outputs": [
    {
     "name": "stdout",
     "output_type": "stream",
     "text": [
      "True\n"
     ]
    }
   ],
   "source": [
    "#Q13. Check if a set is a superset of another set\n",
    "\n",
    "print(even_set.issuperset({2}))"
   ]
  },
  {
   "cell_type": "code",
   "execution_count": 192,
   "id": "da68f590-e3c8-440b-91ac-486a23a6eff4",
   "metadata": {},
   "outputs": [
    {
     "name": "stdout",
     "output_type": "stream",
     "text": [
      "{1, 2, 3, 4}\n"
     ]
    }
   ],
   "source": [
    "#Q14. Create a set from a list\n",
    "\n",
    "lst = [1, 2, 2, 3, 4]\n",
    "set_from_list = set(lst)\n",
    "print(set_from_list)"
   ]
  },
  {
   "cell_type": "code",
   "execution_count": 193,
   "id": "10cc65b4-4542-4b6e-99dd-72ccde2dd33d",
   "metadata": {},
   "outputs": [
    {
     "name": "stdout",
     "output_type": "stream",
     "text": [
      "[1, 2, 3, 4]\n"
     ]
    }
   ],
   "source": [
    "#Q15. Convert a set to a list\n",
    "\n",
    "list_from_set = list(set_from_list)\n",
    "print(list_from_set)"
   ]
  },
  {
   "cell_type": "code",
   "execution_count": 235,
   "id": "ec4778af-8597-4c04-82c1-15929f5c624f",
   "metadata": {},
   "outputs": [
    {
     "name": "stdout",
     "output_type": "stream",
     "text": [
      "4 set()\n"
     ]
    }
   ],
   "source": [
    "#Q16. Remove a random element from a set.\n",
    "\n",
    "random_removed = set_from_list.pop()\n",
    "print(random_removed, set_from_list)"
   ]
  },
  {
   "cell_type": "code",
   "execution_count": 195,
   "id": "85fe4a27-2d37-444f-a3f2-9fff4b24743a",
   "metadata": {},
   "outputs": [
    {
     "name": "stdout",
     "output_type": "stream",
     "text": [
      "2\n"
     ]
    }
   ],
   "source": [
    "#Q17. Pop an element from a set\n",
    "\n",
    "print(set_from_list.pop())"
   ]
  },
  {
   "cell_type": "code",
   "execution_count": 196,
   "id": "be3d0c6b-bb72-49fa-93ba-a7cc10f27620",
   "metadata": {},
   "outputs": [
    {
     "name": "stdout",
     "output_type": "stream",
     "text": [
      "True\n"
     ]
    }
   ],
   "source": [
    "#Q18. Check if two sets have no elements in common\n",
    "\n",
    "print(set_from_list.isdisjoint({10, 11}))"
   ]
  },
  {
   "cell_type": "code",
   "execution_count": 197,
   "id": "8ec8bd6f-91ad-42a9-bff5-18b009f30dd6",
   "metadata": {},
   "outputs": [
    {
     "name": "stdout",
     "output_type": "stream",
     "text": [
      "{1, 2, 3, 4, 5, 6, 7, 8, 9, 10}\n"
     ]
    }
   ],
   "source": [
    "#Q19. Find the symmetric difference between two sets.\n",
    "\n",
    "sym_diff = even_set.symmetric_difference(odd_set)\n",
    "print(sym_diff)"
   ]
  },
  {
   "cell_type": "code",
   "execution_count": 198,
   "id": "a0148c7c-7795-4a07-85cf-812d031aabde",
   "metadata": {},
   "outputs": [
    {
     "name": "stdout",
     "output_type": "stream",
     "text": [
      "{2, 4, 6, 8, 10, 12, 14}\n"
     ]
    }
   ],
   "source": [
    "#Q20. Update a set with elements from another set\n",
    "\n",
    "even_set.update({12, 14})\n",
    "print(even_set)"
   ]
  },
  {
   "cell_type": "code",
   "execution_count": 199,
   "id": "0fe8807c-9d45-4ca3-952b-08b83108ac5b",
   "metadata": {},
   "outputs": [
    {
     "name": "stdout",
     "output_type": "stream",
     "text": [
      "{2, 3, 5, 7, 11}\n"
     ]
    }
   ],
   "source": [
    "#Q21. Create a set of the first 5 prime numbers\n",
    "\n",
    "prime_set = {2, 3, 5, 7, 11}\n",
    "print(prime_set)  "
   ]
  },
  {
   "cell_type": "code",
   "execution_count": 233,
   "id": "e7c7274b-3b49-4209-b003-c150c905efe2",
   "metadata": {},
   "outputs": [
    {
     "name": "stdout",
     "output_type": "stream",
     "text": [
      "True\n"
     ]
    }
   ],
   "source": [
    "#Q22. Check if two sets are identical.\n",
    "\n",
    "a = {1, 2, 3}\n",
    "b = {3, 2, 1}\n",
    "print(a == b)  "
   ]
  },
  {
   "cell_type": "code",
   "execution_count": 201,
   "id": "7ec5a1b0-fc0e-47da-9534-4cc3a8d448ff",
   "metadata": {},
   "outputs": [
    {
     "name": "stdout",
     "output_type": "stream",
     "text": [
      "frozenset({1, 2, 3})\n"
     ]
    }
   ],
   "source": [
    "#Q23. Create a frozen set\n",
    "\n",
    "fs = frozenset([1, 2, 3])\n",
    "print(fs)  "
   ]
  },
  {
   "cell_type": "code",
   "execution_count": 202,
   "id": "29eef867-ca5b-4591-8349-2e789af3c0bb",
   "metadata": {},
   "outputs": [
    {
     "name": "stdout",
     "output_type": "stream",
     "text": [
      "True\n"
     ]
    }
   ],
   "source": [
    "#Q24. Check if a set is disjoint with another set\n",
    "\n",
    "x = {1, 2}\n",
    "y = {3, 4}\n",
    "print(x.isdisjoint(y))  "
   ]
  },
  {
   "cell_type": "code",
   "execution_count": 203,
   "id": "65750ed3-2c93-4265-8820-e92c580703c1",
   "metadata": {},
   "outputs": [
    {
     "name": "stdout",
     "output_type": "stream",
     "text": [
      "{1, 4, 9, 16, 25}\n"
     ]
    }
   ],
   "source": [
    "#Q25. Create a set of squares of numbers from 1 to 5\n",
    "\n",
    "squares = {x**2 for x in range(1, 6)}\n",
    "print(squares)  "
   ]
  },
  {
   "cell_type": "code",
   "execution_count": 204,
   "id": "0842116a-357a-4f79-8cb0-3db625483e21",
   "metadata": {},
   "outputs": [
    {
     "name": "stdout",
     "output_type": "stream",
     "text": [
      "{1, 3, 5}\n"
     ]
    }
   ],
   "source": [
    "#Q26. Filter out all even numbers from a set\n",
    "\n",
    "nums = {1, 2, 3, 4, 5, 6}\n",
    "odds = {x for x in nums if x % 2 != 0}\n",
    "print(odds)  "
   ]
  },
  {
   "cell_type": "code",
   "execution_count": 230,
   "id": "e8deb1b2-11df-4418-af80-e2c776dedbef",
   "metadata": {},
   "outputs": [
    {
     "name": "stdout",
     "output_type": "stream",
     "text": [
      "{2, 4, 6}\n"
     ]
    }
   ],
   "source": [
    "#Q27. Multiply all elements in a set by 2\n",
    "\n",
    "nums = {1, 2, 3}\n",
    "doubled = {x * 2 for x in nums}\n",
    "print(doubled)  "
   ]
  },
  {
   "cell_type": "code",
   "execution_count": 206,
   "id": "1656f8fb-0f9b-43ac-8c01-b1fed2994e53",
   "metadata": {},
   "outputs": [
    {
     "name": "stdout",
     "output_type": "stream",
     "text": [
      "{3, 39, 16, 81, 28}\n"
     ]
    }
   ],
   "source": [
    "#Q28. Create a set of random numbers\n",
    "\n",
    "import random\n",
    "random_set = {random.randint(1, 100) for _ in range(5)}\n",
    "print(random_set)  "
   ]
  },
  {
   "cell_type": "code",
   "execution_count": 231,
   "id": "34f00ab9-b535-48ad-a5df-768dc26c8c6a",
   "metadata": {},
   "outputs": [
    {
     "name": "stdout",
     "output_type": "stream",
     "text": [
      "True\n"
     ]
    }
   ],
   "source": [
    "#Q29. Check if a set is empty\n",
    "\n",
    "a = set()\n",
    "print(len(a) == 0)"
   ]
  },
  {
   "cell_type": "code",
   "execution_count": 208,
   "id": "63d1d30b-d6b1-4ebf-a85a-cd1fa471dfe5",
   "metadata": {},
   "outputs": [
    {
     "name": "stdout",
     "output_type": "stream",
     "text": [
      "{3, 4, frozenset({1, 2})}\n"
     ]
    }
   ],
   "source": [
    "#Q30. Create a nested set (hint: use frozenset)\n",
    "\n",
    "inner = frozenset([1, 2])\n",
    "outer = {inner, 3, 4}\n",
    "print(outer) "
   ]
  },
  {
   "cell_type": "code",
   "execution_count": 209,
   "id": "00c8d7b7-2d72-4106-bbf3-a62d913066bf",
   "metadata": {},
   "outputs": [
    {
     "name": "stdout",
     "output_type": "stream",
     "text": [
      "{1, 2, 4, 5}\n"
     ]
    }
   ],
   "source": [
    "#Q31. Remove an element from a set using the discard method.\n",
    "\n",
    "s = {1, 2, 3, 4, 5}\n",
    "s.discard(3)\n",
    "print(s)  "
   ]
  },
  {
   "cell_type": "code",
   "execution_count": 232,
   "id": "2773c80c-37f5-4502-abd9-3451cea94553",
   "metadata": {},
   "outputs": [
    {
     "name": "stdout",
     "output_type": "stream",
     "text": [
      "True\n"
     ]
    }
   ],
   "source": [
    "#Q32. Compare two sets.\n",
    "\n",
    "a = {1, 2, 3}\n",
    "b = {3, 2, 1}\n",
    "print(a == b)  "
   ]
  },
  {
   "cell_type": "code",
   "execution_count": 211,
   "id": "de46b406-dc93-4bc3-aded-f956d55ca5bf",
   "metadata": {},
   "outputs": [
    {
     "name": "stdout",
     "output_type": "stream",
     "text": [
      "{'e', 'h', 'o', 'l'}\n"
     ]
    }
   ],
   "source": [
    "#Q33. Create a set from a string\n",
    "\n",
    "s = \"hello\"\n",
    "char_set = set(s)\n",
    "print(char_set)  "
   ]
  },
  {
   "cell_type": "code",
   "execution_count": 229,
   "id": "2e81d781-d29d-40b7-9bab-6d8905aed8a0",
   "metadata": {},
   "outputs": [
    {
     "name": "stdout",
     "output_type": "stream",
     "text": [
      "{1, 2, 3}\n"
     ]
    }
   ],
   "source": [
    "#Q34. Convert a set of strings to a set of integers\n",
    "\n",
    "s = {\"1\", \"2\", \"3\"}\n",
    "int_set = {int(x) for x in s}\n",
    "print(int_set)  "
   ]
  },
  {
   "cell_type": "code",
   "execution_count": 213,
   "id": "6f6433d0-7c01-40c9-a77f-1f4a6750aac1",
   "metadata": {},
   "outputs": [
    {
     "name": "stdout",
     "output_type": "stream",
     "text": [
      "{'1', '3', '2'}\n"
     ]
    }
   ],
   "source": [
    "#Q35. Convert a set of integers to a set of strings.\n",
    "\n",
    "s = {1, 2, 3}\n",
    "str_set = {str(x) for x in s}\n",
    "print(str_set)  "
   ]
  },
  {
   "cell_type": "code",
   "execution_count": 214,
   "id": "63ccc617-e07a-45ef-8c94-d71bcfabe233",
   "metadata": {},
   "outputs": [
    {
     "name": "stdout",
     "output_type": "stream",
     "text": [
      "{1, 2, 3, 4, 5}\n"
     ]
    }
   ],
   "source": [
    "#Q36. Create a set from a tuple\n",
    "\n",
    "t = (1, 2, 3, 4, 5)\n",
    "s = set(t)\n",
    "print(s)  "
   ]
  },
  {
   "cell_type": "code",
   "execution_count": 215,
   "id": "3c123c45-d75e-4361-a70e-d9b5131f8784",
   "metadata": {},
   "outputs": [
    {
     "name": "stdout",
     "output_type": "stream",
     "text": [
      "(1, 2, 3, 4, 5)\n"
     ]
    }
   ],
   "source": [
    "#Q37. Convert a set to a tuple\n",
    "\n",
    "s = {1, 2, 3, 4, 5}\n",
    "t = tuple(s)\n",
    "print(t)  "
   ]
  },
  {
   "cell_type": "code",
   "execution_count": 216,
   "id": "d4f6bbfe-d61b-49eb-a2ab-64041ba1e9e6",
   "metadata": {},
   "outputs": [
    {
     "name": "stdout",
     "output_type": "stream",
     "text": [
      "40\n"
     ]
    }
   ],
   "source": [
    "#Q38. Find the maximum value in a set\n",
    "\n",
    "s = {10, 20, 5, 40}\n",
    "max_val = max(s)\n",
    "print(max_val)  "
   ]
  },
  {
   "cell_type": "code",
   "execution_count": 217,
   "id": "24245e45-41db-4d0a-a5a3-bd07f832e526",
   "metadata": {},
   "outputs": [
    {
     "name": "stdout",
     "output_type": "stream",
     "text": [
      "5\n"
     ]
    }
   ],
   "source": [
    "#Q39. Find the minimum value in a set\n",
    "\n",
    "s = {10, 20, 5, 40}\n",
    "min_val = min(s)\n",
    "print(min_val)  "
   ]
  },
  {
   "cell_type": "code",
   "execution_count": 218,
   "id": "726a9c98-7996-4e9e-8c94-dade40e5e62f",
   "metadata": {},
   "outputs": [
    {
     "name": "stdin",
     "output_type": "stream",
     "text": [
      "Enter numbers separated by spaces:  122\n"
     ]
    },
    {
     "name": "stdout",
     "output_type": "stream",
     "text": [
      "{122}\n"
     ]
    }
   ],
   "source": [
    "#Q40. Create a set from user input\n",
    "\n",
    "user_input = input(\"Enter numbers separated by spaces: \")  # e.g., 1 2 3 3 4\n",
    "s = set(map(int, user_input.split()))\n",
    "print(s)  "
   ]
  },
  {
   "cell_type": "code",
   "execution_count": 219,
   "id": "bcf35552-ece4-4db0-a44f-586b868c6d26",
   "metadata": {},
   "outputs": [
    {
     "name": "stdout",
     "output_type": "stream",
     "text": [
      "True\n"
     ]
    }
   ],
   "source": [
    "#Q41. Check if the intersection of two sets is empty\n",
    "\n",
    "a = {1, 2, 3}\n",
    "b = {4, 5, 6}\n",
    "is_disjoint = a.isdisjoint(b)\n",
    "print(is_disjoint)  "
   ]
  },
  {
   "cell_type": "code",
   "execution_count": 220,
   "id": "1ddb1f08-4f1a-4cc9-ae23-4a94d17e5e9d",
   "metadata": {},
   "outputs": [
    {
     "name": "stdout",
     "output_type": "stream",
     "text": [
      "{0, 1, 2, 3}\n"
     ]
    }
   ],
   "source": [
    "#Q42. Create a set of the first 5 Fibonacci numbers.\n",
    "\n",
    "fib = [0, 1]\n",
    "while len(fib) < 5:\n",
    "    fib.append(fib[-1] + fib[-2])\n",
    "fib_set = set(fib)\n",
    "print(fib_set)  "
   ]
  },
  {
   "cell_type": "code",
   "execution_count": 221,
   "id": "d1f47d0b-9cde-4a37-a153-67fa2d542083",
   "metadata": {},
   "outputs": [
    {
     "name": "stdout",
     "output_type": "stream",
     "text": [
      "{1, 2, 3, 4, 5}\n"
     ]
    }
   ],
   "source": [
    "#Q43. Remove duplicates from a list using sets\n",
    "\n",
    "lst = [1, 2, 2, 3, 4, 4, 5]\n",
    "unique_set = set(lst)\n",
    "print(unique_set)  "
   ]
  },
  {
   "cell_type": "code",
   "execution_count": 222,
   "id": "48b31dd6-38be-4be6-917b-4bd930bcce11",
   "metadata": {},
   "outputs": [
    {
     "name": "stdout",
     "output_type": "stream",
     "text": [
      "True\n"
     ]
    }
   ],
   "source": [
    "#Q44. Check if two sets have the same elements, regardless of their count.\n",
    "\n",
    "a = [1, 2, 2, 3]\n",
    "b = [3, 1, 1, 2]\n",
    "are_same = set(a) == set(b)\n",
    "print(are_same)  "
   ]
  },
  {
   "cell_type": "code",
   "execution_count": 223,
   "id": "97a8bb48-8029-4326-b88f-9a9352a66556",
   "metadata": {},
   "outputs": [
    {
     "name": "stdout",
     "output_type": "stream",
     "text": [
      "{1, 2, 4, 8, 16}\n"
     ]
    }
   ],
   "source": [
    "#Q45. Create a set of the first `n` powers of 2\n",
    "\n",
    "n = 5\n",
    "powers = {2**i for i in range(n)}\n",
    "print(powers)  "
   ]
  },
  {
   "cell_type": "code",
   "execution_count": 224,
   "id": "b26550f9-659b-4ba2-b982-07f7f66be8b1",
   "metadata": {},
   "outputs": [
    {
     "name": "stdout",
     "output_type": "stream",
     "text": [
      "{3, 4}\n"
     ]
    }
   ],
   "source": [
    "#Q46. Find the common elements between a set and a list\n",
    "\n",
    "s = {1, 2, 3, 4}\n",
    "lst = [3, 4, 5, 6]\n",
    "common = s.intersection(lst)\n",
    "print(common) "
   ]
  },
  {
   "cell_type": "code",
   "execution_count": 225,
   "id": "cf4f0400-b54f-4deb-be25-f74570fd60c8",
   "metadata": {},
   "outputs": [
    {
     "name": "stdout",
     "output_type": "stream",
     "text": [
      "{1, 3, 6, 10, 15}\n"
     ]
    }
   ],
   "source": [
    "#Q47. Create a set of the first `n` triangular numbers\n",
    "\n",
    "n = 5\n",
    "triangular_set = {i * (i + 1) // 2 for i in range(1, n + 1)}\n",
    "print(triangular_set)  "
   ]
  },
  {
   "cell_type": "code",
   "execution_count": 226,
   "id": "519d2ebc-1404-496c-8019-92c9c56d04b4",
   "metadata": {},
   "outputs": [
    {
     "name": "stdout",
     "output_type": "stream",
     "text": [
      "True\n"
     ]
    }
   ],
   "source": [
    "#Q48. Check if a set contains another set as a subset.\n",
    "\n",
    "a = {1, 2, 3, 4}\n",
    "b = {2, 3}\n",
    "is_subset = b.issubset(a)\n",
    "print(is_subset)  "
   ]
  },
  {
   "cell_type": "code",
   "execution_count": 227,
   "id": "83db8847-5d06-4f26-a39f-30168d92bfa7",
   "metadata": {},
   "outputs": [
    {
     "name": "stdout",
     "output_type": "stream",
     "text": [
      "{0, 1}\n"
     ]
    }
   ],
   "source": [
    "#Q49. Create a set of alternating 1s and 0s of length `n`.\n",
    "\n",
    "n = 6\n",
    "alt_set = {i % 2 for i in range(n)}\n",
    "print(alt_set)  "
   ]
  },
  {
   "cell_type": "code",
   "execution_count": 228,
   "id": "501fada1-4af1-4ed7-8ab7-074457aaffb4",
   "metadata": {},
   "outputs": [
    {
     "name": "stdout",
     "output_type": "stream",
     "text": [
      "{1, 2, 3, 4, 5}\n"
     ]
    }
   ],
   "source": [
    "#Q50. Merge multiple sets into one\n",
    "\n",
    "set1 = {1, 2}\n",
    "set2 = {3, 4}\n",
    "set3 = {4, 5}\n",
    "merged = set1.union(set2, set3)\n",
    "print(merged)  "
   ]
  },
  {
   "cell_type": "code",
   "execution_count": null,
   "id": "81d210a6-11f5-484a-863a-2fc97d22de38",
   "metadata": {},
   "outputs": [],
   "source": []
  }
 ],
 "metadata": {
  "kernelspec": {
   "display_name": "Python [conda env:base] *",
   "language": "python",
   "name": "conda-base-py"
  },
  "language_info": {
   "codemirror_mode": {
    "name": "ipython",
    "version": 3
   },
   "file_extension": ".py",
   "mimetype": "text/x-python",
   "name": "python",
   "nbconvert_exporter": "python",
   "pygments_lexer": "ipython3",
   "version": "3.12.7"
  }
 },
 "nbformat": 4,
 "nbformat_minor": 5
}
